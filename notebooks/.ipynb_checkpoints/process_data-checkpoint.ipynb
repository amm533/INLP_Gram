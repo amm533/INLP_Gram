{
 "cells": [
  {
   "cell_type": "markdown",
   "id": "96a65ab4-110e-4ae2-a4e0-fbce1f216e02",
   "metadata": {},
   "source": [
    "### Obtener .txt con sustantivos inanimados y adjetivos (calcular dirección género gramatical y test clasificar género gramatical)"
   ]
  },
  {
   "cell_type": "markdown",
   "id": "0e9ab37e-b78a-4bd7-8e7d-22507f095826",
   "metadata": {},
   "source": [
    "#### Quitar verbos"
   ]
  },
  {
   "cell_type": "code",
   "execution_count": 2,
   "id": "edaf5a36-1de0-40a1-8a49-3a715524dab4",
   "metadata": {},
   "outputs": [
    {
     "data": {
      "application/vnd.jupyter.widget-view+json": {
       "model_id": "8ee8337480224e2ea4140a25cb430aff",
       "version_major": 2,
       "version_minor": 0
      },
      "text/plain": [
       "Downloading https://raw.githubusercontent.com/stanfordnlp/stanza-resources/main/resources_1.9.0.json:   0%|   …"
      ]
     },
     "metadata": {},
     "output_type": "display_data"
    },
    {
     "name": "stderr",
     "output_type": "stream",
     "text": [
      "2024-11-15 09:47:02 INFO: Downloaded file to C:\\Users\\Usuario\\stanza_resources\\resources.json\n",
      "2024-11-15 09:47:02 INFO: Downloading default packages for language: es (Spanish) ...\n",
      "2024-11-15 09:47:03 INFO: File exists: C:\\Users\\Usuario\\stanza_resources\\es\\default.zip\n",
      "2024-11-15 09:47:07 INFO: Finished downloading models and saved to C:\\Users\\Usuario\\stanza_resources\n"
     ]
    }
   ],
   "source": [
    "import stanza\n",
    "\n",
    "stanza.download('es')\n",
    "\n",
    "    # stanza.Pipeline:\n",
    "    #          To start annotating text with Stanza, you would typically start by building a Pipeline that contains Processors, \n",
    "    #          each fulfilling a specific NLP task you desire (e.g., tokenization, part-of-speech tagging, syntactic parsing, etc). \n",
    "    #          The pipeline takes in raw text or a Document object that contains partial annotations, runs the specified processors in succession, \n",
    "    #          and returns an annotated Document\n",
    "\n",
    "\n",
    "def is_spanish_verb(word, POS_tag_pipeline):\n",
    "\n",
    "    doc = POS_tag_pipeline(word)\n",
    "    \n",
    "    return any(word.pos == 'VERB' for sentence in doc.sentences for word in sentence.words)\n",
    "\n"
   ]
  },
  {
   "cell_type": "code",
   "execution_count": 2,
   "id": "d072bbf4-efa5-41d8-8f05-c59dfb3be2d5",
   "metadata": {},
   "outputs": [
    {
     "name": "stderr",
     "output_type": "stream",
     "text": [
      "2024-11-14 10:21:47 INFO: Checking for updates to resources.json in case models have been updated.  Note: this behavior can be turned off with download_method=None or download_method=DownloadMethod.REUSE_RESOURCES\n"
     ]
    },
    {
     "data": {
      "application/vnd.jupyter.widget-view+json": {
       "model_id": "b23b83dc995045feb6b4a79ccd0263d4",
       "version_major": 2,
       "version_minor": 0
      },
      "text/plain": [
       "Downloading https://raw.githubusercontent.com/stanfordnlp/stanza-resources/main/resources_1.9.0.json:   0%|   …"
      ]
     },
     "metadata": {},
     "output_type": "display_data"
    },
    {
     "name": "stderr",
     "output_type": "stream",
     "text": [
      "2024-11-14 10:21:47 INFO: Downloaded file to C:\\Users\\Usuario\\stanza_resources\\resources.json\n",
      "2024-11-14 10:21:47 WARNING: Language es package default expects mwt, which has been added\n",
      "2024-11-14 10:21:47 INFO: Loading these models for language: es (Spanish):\n",
      "===============================\n",
      "| Processor | Package         |\n",
      "-------------------------------\n",
      "| tokenize  | combined        |\n",
      "| mwt       | combined        |\n",
      "| pos       | combined_charlm |\n",
      "===============================\n",
      "\n",
      "2024-11-14 10:21:47 INFO: Using device: cpu\n",
      "2024-11-14 10:21:47 INFO: Loading: tokenize\n",
      "C:\\Users\\Usuario\\AppData\\Local\\Programs\\Python\\Python312\\Lib\\site-packages\\stanza\\models\\tokenization\\trainer.py:82: FutureWarning: You are using `torch.load` with `weights_only=False` (the current default value), which uses the default pickle module implicitly. It is possible to construct malicious pickle data which will execute arbitrary code during unpickling (See https://github.com/pytorch/pytorch/blob/main/SECURITY.md#untrusted-models for more details). In a future release, the default value for `weights_only` will be flipped to `True`. This limits the functions that could be executed during unpickling. Arbitrary objects will no longer be allowed to be loaded via this mode unless they are explicitly allowlisted by the user via `torch.serialization.add_safe_globals`. We recommend you start setting `weights_only=True` for any use case where you don't have full control of the loaded file. Please open an issue on GitHub for any issues related to this experimental feature.\n",
      "  checkpoint = torch.load(filename, lambda storage, loc: storage)\n",
      "2024-11-14 10:21:49 INFO: Loading: mwt\n",
      "C:\\Users\\Usuario\\AppData\\Local\\Programs\\Python\\Python312\\Lib\\site-packages\\stanza\\models\\mwt\\trainer.py:201: FutureWarning: You are using `torch.load` with `weights_only=False` (the current default value), which uses the default pickle module implicitly. It is possible to construct malicious pickle data which will execute arbitrary code during unpickling (See https://github.com/pytorch/pytorch/blob/main/SECURITY.md#untrusted-models for more details). In a future release, the default value for `weights_only` will be flipped to `True`. This limits the functions that could be executed during unpickling. Arbitrary objects will no longer be allowed to be loaded via this mode unless they are explicitly allowlisted by the user via `torch.serialization.add_safe_globals`. We recommend you start setting `weights_only=True` for any use case where you don't have full control of the loaded file. Please open an issue on GitHub for any issues related to this experimental feature.\n",
      "  checkpoint = torch.load(filename, lambda storage, loc: storage)\n",
      "2024-11-14 10:21:49 INFO: Loading: pos\n",
      "C:\\Users\\Usuario\\AppData\\Local\\Programs\\Python\\Python312\\Lib\\site-packages\\stanza\\models\\pos\\trainer.py:139: FutureWarning: You are using `torch.load` with `weights_only=False` (the current default value), which uses the default pickle module implicitly. It is possible to construct malicious pickle data which will execute arbitrary code during unpickling (See https://github.com/pytorch/pytorch/blob/main/SECURITY.md#untrusted-models for more details). In a future release, the default value for `weights_only` will be flipped to `True`. This limits the functions that could be executed during unpickling. Arbitrary objects will no longer be allowed to be loaded via this mode unless they are explicitly allowlisted by the user via `torch.serialization.add_safe_globals`. We recommend you start setting `weights_only=True` for any use case where you don't have full control of the loaded file. Please open an issue on GitHub for any issues related to this experimental feature.\n",
      "  checkpoint = torch.load(filename, lambda storage, loc: storage)\n",
      "C:\\Users\\Usuario\\AppData\\Local\\Programs\\Python\\Python312\\Lib\\site-packages\\stanza\\models\\common\\pretrain.py:56: FutureWarning: You are using `torch.load` with `weights_only=False` (the current default value), which uses the default pickle module implicitly. It is possible to construct malicious pickle data which will execute arbitrary code during unpickling (See https://github.com/pytorch/pytorch/blob/main/SECURITY.md#untrusted-models for more details). In a future release, the default value for `weights_only` will be flipped to `True`. This limits the functions that could be executed during unpickling. Arbitrary objects will no longer be allowed to be loaded via this mode unless they are explicitly allowlisted by the user via `torch.serialization.add_safe_globals`. We recommend you start setting `weights_only=True` for any use case where you don't have full control of the loaded file. Please open an issue on GitHub for any issues related to this experimental feature.\n",
      "  data = torch.load(self.filename, lambda storage, loc: storage)\n",
      "C:\\Users\\Usuario\\AppData\\Local\\Programs\\Python\\Python312\\Lib\\site-packages\\stanza\\models\\common\\char_model.py:271: FutureWarning: You are using `torch.load` with `weights_only=False` (the current default value), which uses the default pickle module implicitly. It is possible to construct malicious pickle data which will execute arbitrary code during unpickling (See https://github.com/pytorch/pytorch/blob/main/SECURITY.md#untrusted-models for more details). In a future release, the default value for `weights_only` will be flipped to `True`. This limits the functions that could be executed during unpickling. Arbitrary objects will no longer be allowed to be loaded via this mode unless they are explicitly allowlisted by the user via `torch.serialization.add_safe_globals`. We recommend you start setting `weights_only=True` for any use case where you don't have full control of the loaded file. Please open an issue on GitHub for any issues related to this experimental feature.\n",
      "  state = torch.load(filename, lambda storage, loc: storage)\n",
      "2024-11-14 10:21:49 INFO: Done loading processors!\n"
     ]
    },
    {
     "name": "stdout",
     "output_type": "stream",
     "text": [
      "['saber', 'reproche', 'mío', 'proceder', 'recuerdo', 'olvido', 'abandonarse', 'sentir', 'considerando', 'irán', 'desarme', 'tener', 'establecer', 'pedir', 'sustituir', 'comunicar', 'repudio', 'afirmar', 'acomodarse', 'separarnos', 'intentar', 'pase', 'ruego', 'disponer', 'disfrute', 'demostrar', 'facilitar', 'despiece', 'proseguir', 'actuar', 'decir', 'resurgir', 'añadir', 'hacer', 'parecer', 'cuenta', 'pretender', 'arrojo', 'ir', 'aprender', 'resultando', 'negar', 'trabajar', 'prestar', 'asegurarse', 'pienso', 'velar', 'lamento', 'conseguir', 'oír', 'viajar', 'revolver', 'gendarme', 'tomar', 'pasarse', 'ver', 'levante', 'impedir', 'experimentar', 'constatar', 'vi', 'hacerlo', 'dar', 'contribuir', 'acontecer', 'haz', 'considerar', 'ocuparnos', 'asean', 'digamos', 'algarve', 'iban', 'recurrir', 'ídolo', 'renacer', 'exigir', 'forzar', 'organizar', 'aceptar', 'posibilitar', 'ocuparse', 'correr', 'aguante', 'declinar', 'surgir', 'acuse', 'transcurrir', 'reafirmar', 'determinar', 'desquite', 'conformarse', 'alojo', 'dedicar', 'contar', 'orar', 'restaurar', 'obligar', 'negarse', 'coordinar', 'insistir', 'asomo', 'pasar', 'encontrarnos', 'llevar', 'fumar', 'discutir', 'compartir', 'aplicar', 'avanzar', 'contestar', 'seguir', 'volar', 'colocar', 'das', 'conseguirlo', 'elevar', 'ama', 'garantizar', 'revivir', 'preparar', 'desarrollar', 'agilizar', 'crear', 'destacar', 'restar', 'repetirla', 'tratar', 'aplicarlas', 'fijarse', 'poner', 'recordar', 'mejorar', 'contiene', 'veni', 'felicitar', 'enfrentarnos', 'realizar', 'afrontar', 'remate', 'lanzar']\n"
     ]
    }
   ],
   "source": [
    "POS_tag_pipeline = stanza.Pipeline(lang='es', processors='tokenize,pos')\n",
    "\n",
    "# You cannot remove text from a file. \n",
    "# This is a limitation of files, not Python. Instead you rewrite the file without the text you want to exclude. \n",
    "# A text remove program usually has the following steps.\n",
    "\n",
    "#1. Open the file you want to modify in read mode.\n",
    "#2. Read all the lines from the file and save them as a list.\n",
    "#3. Close the file.\n",
    "#4. Open the file you want to modify in write mode. This deletes the contents of the file.\n",
    "#5. In a loop looking at each line your read in step 2:\n",
    "#    a. Scan line for words you want to remove\n",
    "#    b. Create a new line that doesn't contain the unwanted words.\n",
    "#    c. Write the modified line to the file.\n",
    "\n",
    "verbs = []\n",
    "other_words = []\n",
    "with open(\"../data/sets_palabras/masculine_gram_gender.txt\", \"r\", encoding='utf-8') as fr:\n",
    "    for line in fr:\n",
    "        word = line.strip()\n",
    "        if is_spanish_verb(word, POS_tag_pipeline):\n",
    "            verbs.append(word)\n",
    "        else:\n",
    "            other_words.append(word)\n",
    "\n",
    "print(verbs)"
   ]
  },
  {
   "cell_type": "code",
   "execution_count": 3,
   "id": "f5f48a3b-21b3-4a6a-b3d4-6574a80ac2d8",
   "metadata": {},
   "outputs": [],
   "source": [
    "with open(\"../data/sets_palabras/masculine_gram_gender.txt\", \"w\", encoding='utf-8') as fw:\n",
    "    for word in other_words:\n",
    "        fw.write(word+\"\\n\")"
   ]
  },
  {
   "cell_type": "code",
   "execution_count": 4,
   "id": "e716e015-2e48-45f1-aef8-1229e1f5d0a1",
   "metadata": {},
   "outputs": [
    {
     "name": "stdout",
     "output_type": "stream",
     "text": [
      "['espera', 'pregunta', 'toma', 'mejora', 'anima', 'felicito', 'valía', 'considera', 'considere', 'acepta', 'cuenta', 'mira', 'integre', 'reconoce', 'abolió', 'examinaré', 'llama', 'tenemos', 'necesitan', 'merece', 'echo', 'das', 'siga', 'trata', 'consideramos', 'lee', 'llevan', 'necesitamos', 'queremos', 'hicimos', 'comparte', 'define', 'apuesta', 'precede', 'plantean', 'establecemos', 'apoyamos', 'pongamos', 'rechazan', 'ayudará', 'apoyan', 'ponga', 'voy', 'desespera', 'tenían', 'mantuvo', 'someto', 'apruebe', 'quita', 'ocupa', 'cumplimos', 'tengamos', 'consume', 'respetara', 'constituyen', 'haya', 'reciba', 'incorporen', 'apoye', 'encontramos', 'rechazaron', 'seria', 'convierten', 'componen', 'manifiesta', 'tiene', 'ejerce', 'escucha', 'hace', 'salvaguarda', 'soliciten', 'sufre', 'lleva', 'merecen', 'transmitirá', 'pase', 'tienen', 'contraparte', 'permitimos', 'suministran', 'tendrá', 'formuló', 'resume', 'expresan', 'tomaré', 'padece', 'vendée', 'necesita', 'presenta', 'abandonan', 'tendremos', 'piden', 'apoyará', 'adoptemos', 'despidieron', 'aceptan', 'respetamos', 'honra', 'esboza', 'pide', 'acojo', 'cerraron', 'brinda', 'entendemos', 'permiten', 'considero', 'va', 'amenazan', 'hacen', 'llevarán', 'hacemos', 'vea', 'consideran', 'apoyaría', 'debilita', 'dificulta', 'pronunciara', 'acepte', 'pronunció', 'conforman', 'hará', 'quiero', 'tuviera', 'cuestiono', 'alejará', 'vamos', 'deploramos', 'reparta', 'tengan', 'llevó', 'muestra', 'retiren', 'suspendan', 'venda', 'tuviésemos', 'leo', 'representa', 'describió', 'interpretan', 'rechazó', 'repita', 'quieren', 'aplaude', 'excluye', 'necesiten', 'queríamos', 'comparto', 'veían', 'vimos', 'ratifique', 'llevemos', 'presentase', 'respalden', 'propone', 'coman', 'deseamos', 'lea', 'había', 'formulen', 'presentan', 'integran', 'aplico', 'conocemos', 'vean', 'volverá', 'examinen', 'ayude', 'reviste', 'apoyarán', 'realizar', 'mejoran', 'dejaba', 'tomaremos', 'reduce', 'aguardamos', 'tendríamos', 'estima', 'vemos', 'diera', 'separa', 'incorporan', 'gobernaban', 'limita', 'denominan', 'propusimos', 'ejercerán', 'controle', 'controlen', 'invadan', 'consienten', 'asean', 'forman', 'perdieron', 'respalde', 'circular', 'acompaña', 'obligaba', 'acompañe', 'hay', 'conseguirá', 'incrementará', 'amenacen', 'resolvamos', 'conoce', 'hago', 'empeoran', 'utilicemos', 'protejan', 'incluya', 'acaban', 'presentó', 'comparten', 'agravará', 'cambie', 'anuncia', 'transmitieron', 'percibe', 'entiende', 'gestione', 'desean', 'haga', 'convierta', 'votamos', 'cubra', 'acompañen', 'pone', 'representan', 'miramos', 'defiende', 'usan', 'apoya', 'formula', 'encontraré', 'da', 'represente', 'amen', 'mantenga', 'considerara', 'aprueba', 'aplican', 'tengo', 'apoyaré', 'aclare', 'rigen', 'apreciamos', 'conozcan', 'compara', 'apoyaremos', 'critica', 'obliga', 'hice', 'hicieron', 'refuerza', 'votaremos', 'pido', 'practican', 'transmitiré', 'habilitan', 'transforman', 'proporciona', 'conocíamos', 'echamos', 'firmen', 'conocerá', 'tenga', 'responderá', 'respetan', 'aprobamos', 'rechazamos', 'mantendrá', 'consideraría', 'sigue', 'estudiaré', 'rodean', 'defendían', 'destruye', 'padecían', 'siguen', 'merecía', 'proporcionan', 'examinará', 'lean', 'modificó', 'aceptamos', 'dispensa', 'respalda', 'comparta', 'cometen', 'ven', 'destruyan', 'imagina', 'acepten', 'utilicen', 'recibiera', 'logramos', 'formó', 'mantiene', 'recibí', 'puse', 'situaría', 'defina', 'acerque', 'sustituya', 've', 'limite', 'utiliza', 'afectan', 'sometemos', 'podamos', 'votes', 'haré', 'describe', 'llevo', 'tenía', 'proporcionar', 'propuse', 'toman', 'simplifica', 'obtendrán', 'privan', 'examine', 'aprobemos', 'expliqué', 'dejan', 'ocupen', 'comparamos', 'pague', 'tuvimos', 'recibirán', 'analicemos', 'van', 'dejamos', 'imaginan', 'encuentre', 'someta', 'apoyen', 'cedeao', 'explotaron', 'dejaría', 'elevaría', 'venimos', 'entiendo', 'motiva', 'impone', 'agrava', 'mantienen', 'toleran', 'magnifica', 'acogemos', 'comprendamos', 'dirija', 'presten', 'originó', 'financian', 'índole', 'compensan', 'llamamos', 'detengan', 'guarda', 'rodea', 'rechaza', 'fija', 'consiguió', 'produjo', 'aprueban', 'apoyaron', 'tratamos', 'prevén', 'valoramos', 'construimos', 'conozcamos', 'visite', 'olvidará', 'acepto', 'lanza', 'responda', 'sufren', 'contenga', 'quiere', 'estudiaremos', 'utilizan', 'eleva', 'damos', 'indicamos', 'utilice', 'anuló', 'salvaron', 'respaldamos', 'esperan', 'olvidemos', 'acogió', 'soportarán', 'constituye', 'ampare', 'solicite', 'asigne', 'aprovechen', 'aprobaron', 'traba', 'instó', 'afecta', 'consulten', 'expresará', 'dan', 'alejan', 'presentamos', 'admiramos', 'perpetró', 'transmitiría', 'vi', 'dejo', 'asumir', 'redactó', 'solicitar', 'mostraremos', 'motivan', 'recibimos', 'viva', 'contemplamos', 'interrumpan', 'atacaron', 'profundice', 'deja', 'defendemos', 'tomamos', 'integró', 'dominan', 'complica', 'estudiará', 'solicitan', 'contradicen', 'decida', 'pasan', 'modifica', 'aproveche', 'entregará', 'llamen', 'califican', 'escuchaba', 'vuelve', 'construyan', 'hizo', 'reciban', 'ocasiona', 'asuma', 'formularé', 'creo', 'descomponen', 'cuesta', 'componían', 'convirtió', 'conozco', 'pida', 'limpien', 'protegía', 'asumimos', 'eliminen', 'tomará', 'condujo', 'aumenta', 'quisieron', 'paga', 'venia', 'menciono', 'unen', 'vuelva', 'dejemos', 'promueven', 'sustituyeron', 'prestará', 'excluya', 'opone', 'aplicamos', 'exige', 'proteja', 'subordina', 'adoptará', 'sabíamos', 'firmé', 'ostenta', 'aceptó', 'sustituiría', 'busca', 'convierte', 'tomo', 'enriquece', 'adoptara', 'llevamos', 'niega', 'aprecia', 'realizamos', 'eleve', 'aseguremos', 'sustentan', 'olvidan', 'gana', 'felicite', 'hayamos', 'prestan', 'abandonaban', 'rechace', 'retire', 'sacudió', 'pagaran', 'aborda', 'concede', 'practica', 'justifique', 'matan', 'comunicaremos', 'desea', 'encaja', 'vacíe', 'iniciamos', 'harían', 'cumplen', 'observan', 'mantendremos', 'distinguen', 'organizan', 'alentamos', 'aprovechemos', 'repudia', 'insta', 'vivió', 'asuman', 'retiraremos', 'consideraban', 'resolvemos', 'incluyen', 'apoyemos', 'recomiendo', 'emprende', 'paraba', 'hagan', 'daré', 'traemos', 'desarrolla', 'desprecia', 'oprime', 'tramitar', 'seguiremos', 'obtenemos', 'lleve', 'planteó', 'abandonó', 'abandonaron', 'fomenten', 'seguirán', 'disculpen', 'usa', 'pidieron', 'anulan', 'protegían', 'logra', 'identifique', 'preside', 'protegemos', 'explica', 'honran', 'halla', 'ponen', 'ejecutaron', 'tomen', 'menciona', 'decidan', 'burla', 'apruebo', 'expresó', 'definan', 'coloca', 'consideren', 'retira', 'dijo', 'defendí', 'arrojen', 'arrebata', 'decir', 'llevaremos', 'molestaran', 'volveremos', 'pidió', 'conceden', 'suscribimos', 'recuperará', 'percibimos', 'aplicará', 'reconozca', 'fortalece', 'aprueben', 'conseguiría', 'proclama', 'acompañan', 'sigan', 'colocamos', 'producimos', 'regulará', 'cumpla', 'limitan', 'afrontamos', 'adoptó', 'votemos', 'dirige', 'exhortan', 'estableció', 'traslada', 'respaldan', 'levantamos', 'seguimos', 'apliquen', 'expresa', 'invitó', 'felicitamos', 'interpreto', 'empecé', 'querían', 'concederá', 'alcanza', 'elaboran', 'exponen', 'evitan', 'reclama', 'conocen', 'ejecute', 'obligará', 'fortalezca', 'acompañaron', 'iba', 'cargan', 'conozca', 'haremos', 'precisan', 'deberíamos', 'inició', 'rebaja', 'realizan', 'arrastran', 'garanticen', 'busquen', 'circunda', 'mantenemos', 'someten', 'profundizan', 'entiendan', 'incluyan', 'usarían', 'presento', 'nieguen', 'sobra', 'proponemos', 'aplique', 'proponía', 'pierda', 'adopté', 'tendré', 'comunicó', 'fundaron', 'requieren', 'justifiquen', 'exija', 'exponía', 'permitirá', 'contempla', 'precedieron', 'voten', 'conteste', 'acredite', 'traten', 'transmitan', 'mostró', 'administrará', 'adopta', 'estropee', 'planteara', 'hagamos', 'retomaremos', 'estimula', 'acrecienta', 'supera', 'compartiremos', 'exploten', 'sometan', 'aprovecharía', 'faciliten', 'metieron', 'liberará', 'revoque', 'convertiría', 'presenten', 'encabeza', 'implican', 'generará', 'oigan', 'comprendemos', 'examinamos', 'vota', 'instaba', 'examinaba', 'devuelva', 'gestionen', 'transfiere', 'necesitábamos', 'amplían', 'defienden', 'escribió', 'debatimos', 'leeré', 'interpretamos', 'regule', 'ahoga', 'despojó', 'demuestre', 'anule', 'haríamos', 'interprete', 'veo', 'tomó', 'debilitaría', 'aplicó', 'retomemos', 'contratará', 'obtenía', 'introducía', 'anuncié', 'condenaron', 'aprenderemos', 'tuve', 'impongan', 'respete', 'utilizará', 'usará']\n"
     ]
    }
   ],
   "source": [
    "verbs = []\n",
    "other_words = []\n",
    "with open(\"../data/sets_palabras/feminine_gram_gender.txt\", \"r\", encoding='utf-8') as fr:\n",
    "    for line in fr:\n",
    "        word = line.strip()\n",
    "        if is_spanish_verb(word, POS_tag_pipeline):\n",
    "            verbs.append(word)\n",
    "        else:\n",
    "            other_words.append(word)\n",
    "\n",
    "print(verbs)"
   ]
  },
  {
   "cell_type": "code",
   "execution_count": 5,
   "id": "50fa66a6-ed55-4647-8396-6804cdd45ecc",
   "metadata": {},
   "outputs": [],
   "source": [
    "with open(\"../data/sets_palabras/feminine_gram_gender.txt\", \"w\", encoding='utf-8') as fw:\n",
    "    for word in other_words:\n",
    "        fw.write(word+\"\\n\")"
   ]
  },
  {
   "cell_type": "markdown",
   "id": "a5230633-ecf6-4914-aaa7-c8d2bb3bb3ff",
   "metadata": {},
   "source": [
    "#### Quitar palabras repetidas"
   ]
  },
  {
   "cell_type": "code",
   "execution_count": 8,
   "id": "240331b5-7bab-438c-a610-8a076e2d79a0",
   "metadata": {},
   "outputs": [
    {
     "name": "stdout",
     "output_type": "stream",
     "text": [
      "4801\n",
      "3829\n"
     ]
    }
   ],
   "source": [
    "masculine_words = []\n",
    "feminine_words = []\n",
    "\n",
    "with open(\"../data/sets_palabras/masculine_gram_gender.txt\", \"r\", encoding='utf-8') as f:\n",
    "    for line in f:\n",
    "        word = line.strip()\n",
    "        if word not in masculine_words:\n",
    "            masculine_words.append(word)\n",
    "\n",
    "with open(\"../data/sets_palabras/feminine_gram_gender.txt\", \"r\", encoding='utf-8') as f:\n",
    "    for line in f:\n",
    "        word = line.strip()\n",
    "        if word not in feminine_words:\n",
    "           feminine_words.append(word)\n",
    "\n",
    "print(len(feminine_words))\n",
    "print(len(masculine_words))"
   ]
  },
  {
   "cell_type": "code",
   "execution_count": 9,
   "id": "14a297c0-f492-4b15-8a29-f0a71b75e7a5",
   "metadata": {},
   "outputs": [],
   "source": [
    "with open(\"../data/sets_palabras/feminine_gram_gender.txt\", \"w\", encoding='utf-8') as fw:\n",
    "    for word in feminine_words:\n",
    "        fw.write(word+\"\\n\")\n",
    "\n",
    "with open(\"../data/sets_palabras/masculine_gram_gender.txt\", \"w\", encoding='utf-8') as fw:\n",
    "    for word in masculine_words:\n",
    "        fw.write(word+\"\\n\")"
   ]
  },
  {
   "cell_type": "markdown",
   "id": "8a5cb9e7-e583-4e59-a842-06a20b7571df",
   "metadata": {},
   "source": [
    "#### Quitar palabras que no estñen en el modelo de embeddings (que no sean palabras \"comunes en español\")"
   ]
  },
  {
   "cell_type": "code",
   "execution_count": 4,
   "id": "3a0734fa-be86-41c9-9b8d-0eecb865df80",
   "metadata": {},
   "outputs": [],
   "source": [
    "from gensim.models.keyedvectors import KeyedVectors\n",
    "\n",
    "# Biased\n",
    "biased_model = KeyedVectors.load('../data/embeddings/keyedvectors/model_esp.kv', mmap='r')"
   ]
  },
  {
   "cell_type": "code",
   "execution_count": 11,
   "id": "9fe11cb4-2c4c-4955-be48-8fcd2897935f",
   "metadata": {},
   "outputs": [
    {
     "name": "stdout",
     "output_type": "stream",
     "text": [
      "4801\n",
      "3829\n"
     ]
    }
   ],
   "source": [
    "masculine_words = []\n",
    "feminine_words = []\n",
    "\n",
    "with open(\"../data/sets_palabras/masculine_gram_gender.txt\", \"r\", encoding='utf-8') as f:\n",
    "    for line in f:\n",
    "        word = line.strip()\n",
    "        if word in biased_model:\n",
    "            masculine_words.append(word)\n",
    "\n",
    "with open(\"../data/sets_palabras/feminine_gram_gender.txt\", \"r\", encoding='utf-8') as f:\n",
    "    for line in f:\n",
    "        word = line.strip()\n",
    "        if word in biased_model:\n",
    "           feminine_words.append(word)\n",
    "\n",
    "print(len(feminine_words))\n",
    "print(len(masculine_words))"
   ]
  },
  {
   "cell_type": "markdown",
   "id": "86da1818-1a75-4d7e-b6ab-2a0752c07d8e",
   "metadata": {},
   "source": [
    "#### Quitar palabras clasificadas erróneamente como masculinas o femeninas"
   ]
  },
  {
   "cell_type": "code",
   "execution_count": 2,
   "id": "57f84aba-cb8c-47ab-9440-efe37a1ae0bd",
   "metadata": {},
   "outputs": [
    {
     "name": "stdout",
     "output_type": "stream",
     "text": [
      "4801\n",
      "3813\n"
     ]
    }
   ],
   "source": [
    "masculine_words = []\n",
    "feminine_words = []\n",
    "\n",
    "with open(\"../data/sets_palabras/masculine_gram_gender.txt\", \"r\", encoding='utf-8') as f:\n",
    "    for line in f:\n",
    "        word = line.strip()\n",
    "        if word not in masculine_words:\n",
    "            masculine_words.append(word)\n",
    "\n",
    "with open(\"../data/sets_palabras/feminine_gram_gender.txt\", \"r\", encoding='utf-8') as f:\n",
    "    for line in f:\n",
    "        word = line.strip()\n",
    "        if word not in feminine_words:\n",
    "           feminine_words.append(word)\n",
    "\n",
    "print(len(feminine_words))\n",
    "print(len(masculine_words))"
   ]
  },
  {
   "cell_type": "code",
   "execution_count": 1,
   "id": "0ea7d3ec-3839-48ac-9759-b3741f244b10",
   "metadata": {},
   "outputs": [],
   "source": [
    "import numpy as np\n",
    "\n",
    "grammatical_gender_direction = np.loadtxt(\"ES_grammar_gender_direction_LDA_3000\") \n",
    "# si aún no tengo esta dirección, igual se puede hacer de forma aproximada con otra dirección de género,\n",
    "# el caso es que puedo observar las palabras a ojo y quitar a mano"
   ]
  },
  {
   "cell_type": "code",
   "execution_count": 5,
   "id": "b04d83b7-06cb-46b3-a51c-bbdd0bfcd249",
   "metadata": {},
   "outputs": [
    {
     "name": "stdout",
     "output_type": "stream",
     "text": [
      "10 most male biased projections: ['tiempo', 'método', 'modo', 'aparato', 'malhechor', 'experimento', 'periódico', 'surtido', 'sitio', 'jueguecito'] \n",
      "_________\n",
      "10 most female biased projections: ['es', 'saque', 'creación', 'condicional', 'eurobarómetro', 'arena', 'cólera', 'santa', 'uem', 'común'] \n"
     ]
    },
    {
     "data": {
      "image/png": "[encoded data removed]",
      "text/plain": [
       "<Figure size 960x320 with 1 Axes>"
      ]
     },
     "metadata": {},
     "output_type": "display_data"
    }
   ],
   "source": [
    "import sys\n",
    "sys.path.append(\"../src\")\n",
    "import tests\n",
    "\n",
    "most_male_biased, most_female_biased = tests.plot_most_biased(masculine_words, biased_model, grammatical_gender_direction, size=2)"
   ]
  },
  {
   "cell_type": "code",
   "execution_count": 6,
   "id": "f52151f4-e7c2-4e7d-9107-9e8fac3f2eb6",
   "metadata": {},
   "outputs": [
    {
     "name": "stdout",
     "output_type": "stream",
     "text": [
      "['tiempo', 'método', 'modo', 'aparato', 'malhechor', 'experimento', 'periódico', 'surtido', 'sitio', 'jueguecito', 'rito', 'periodo', 'esfuerzo', 'controlado', 'tanque', 'civilizado', 'truco', 'guante', 'lugar', 'conductor']\n",
      "['es', 'saque', 'creación', 'condicional', 'eurobarómetro', 'arena', 'cólera', 'santa', 'uem', 'común', 'andrea', 'grecochipriota', 'uen', 'las', 'corte', 'radio', 'rule', 'copa', 'policía', 'elemental']\n"
     ]
    }
   ],
   "source": [
    "print(most_male_biased)\n",
    "print(most_female_biased)"
   ]
  },
  {
   "cell_type": "code",
   "execution_count": 7,
   "id": "cca0a726-e048-4ae1-abd3-12243db0b0e1",
   "metadata": {},
   "outputs": [
    {
     "name": "stdout",
     "output_type": "stream",
     "text": [
      "3793\n"
     ]
    }
   ],
   "source": [
    "other_words = []\n",
    "\n",
    "with open(\"../data/sets_palabras/masculine_gram_gender.txt\", \"r\", encoding='utf-8') as f:\n",
    "    for line in f:\n",
    "        word = line.strip()\n",
    "        if word not in most_female_biased:\n",
    "            other_words.append(word)\n",
    "\n",
    "print(len(other_words))"
   ]
  },
  {
   "cell_type": "code",
   "execution_count": 8,
   "id": "d91ccf25-6cd7-4996-b6fb-6b3050a0ab29",
   "metadata": {},
   "outputs": [],
   "source": [
    "with open(\"../data/sets_palabras/masculine_gram_gender.txt\", \"w\", encoding='utf-8') as fw:\n",
    "    for word in other_words:\n",
    "        fw.write(word+\"\\n\")"
   ]
  },
  {
   "cell_type": "code",
   "execution_count": 9,
   "id": "bcdcf49d-b46d-48fb-ab83-c5a5fe01376a",
   "metadata": {},
   "outputs": [
    {
     "name": "stdout",
     "output_type": "stream",
     "text": [
      "10 most male biased projections: ['tiempo', 'método', 'modo', 'aparato', 'malhechor', 'experimento', 'periódico', 'surtido', 'sitio', 'jueguecito'] \n",
      "_________\n",
      "10 most female biased projections: ['innegable', 'china', 'presupuestos', 'ala', 'frecuente', 'actualmente', 'inherente', 'gobiernos', 'asem', 'institution'] \n"
     ]
    },
    {
     "data": {
      "image/png": "[encoded data removed]",
      "text/plain": [
       "<Figure size 960x320 with 1 Axes>"
      ]
     },
     "metadata": {},
     "output_type": "display_data"
    }
   ],
   "source": [
    "masculine_words = []\n",
    "\n",
    "with open(\"../data/sets_palabras/masculine_gram_gender.txt\", \"r\", encoding='utf-8') as f:\n",
    "    for line in f:\n",
    "        word = line.strip()\n",
    "        if word not in masculine_words:\n",
    "            masculine_words.append(word)\n",
    "\n",
    "most_male_biased, most_female_biased = tests.plot_most_biased(masculine_words, biased_model, grammatical_gender_direction, size=2)"
   ]
  },
  {
   "cell_type": "code",
   "execution_count": 10,
   "id": "9d2c9231-ec80-4b5d-843d-d212a5d7b7b4",
   "metadata": {},
   "outputs": [
    {
     "name": "stdout",
     "output_type": "stream",
     "text": [
      "['innegable', 'china', 'presupuestos', 'ala', 'frecuente', 'actualmente', 'inherente', 'gobiernos', 'asem', 'institution', 'área', 'supranacional', 'cites', 'politique', 'unita', 'ciudadanos', 'dg', 'deseable', 'edf', 'oie']\n"
     ]
    }
   ],
   "source": [
    "print(most_female_biased) # algunos los quito manualmente"
   ]
  },
  {
   "cell_type": "code",
   "execution_count": 11,
   "id": "e27f999e-e6b5-4a35-8956-c0aac30246d4",
   "metadata": {},
   "outputs": [
    {
     "name": "stdout",
     "output_type": "stream",
     "text": [
      "10 most male biased projections: ['precedente', 'informe', 'fed', 'ejemplar', 'encuentro', 'comisario', 'componente', 'periodista', 'integrado', 'muslim'] \n",
      "_________\n",
      "10 most female biased projections: ['cualidad', 'suya', 'tuya', 'cosa', 'ésta', 'versión', 'chica', 'gente', 'condición', 'estructura'] \n"
     ]
    },
    {
     "data": {
      "image/png": "[encoded data removed]",
      "text/plain": [
       "<Figure size 960x320 with 1 Axes>"
      ]
     },
     "metadata": {},
     "output_type": "display_data"
    },
    {
     "name": "stdout",
     "output_type": "stream",
     "text": [
      "['precedente', 'informe', 'fed', 'ejemplar', 'encuentro', 'comisario', 'componente', 'periodista', 'integrado', 'muslim', 'primer', 'premio', 'par', 'pcc', 'nombre', 'el', 'hajj', 'mar', 'reglamento', 'dirigente']\n"
     ]
    }
   ],
   "source": [
    "feminine_words = []\n",
    "\n",
    "with open(\"../data/sets_palabras/feminine_gram_gender.txt\", \"r\", encoding='utf-8') as f:\n",
    "    for line in f:\n",
    "        word = line.strip()\n",
    "        if word not in feminine_words:\n",
    "            feminine_words.append(word)\n",
    "\n",
    "most_male_biased, most_female_biased = tests.plot_most_biased(feminine_words, biased_model, grammatical_gender_direction, size=2)\n",
    "print(most_male_biased)"
   ]
  },
  {
   "cell_type": "code",
   "execution_count": 12,
   "id": "1283a60d-f25e-4a8e-8d45-5bd1eef26de7",
   "metadata": {},
   "outputs": [
    {
     "name": "stdout",
     "output_type": "stream",
     "text": [
      "4781\n"
     ]
    }
   ],
   "source": [
    "other_words = []\n",
    "\n",
    "with open(\"../data/sets_palabras/feminine_gram_gender.txt\", \"r\", encoding='utf-8') as f:\n",
    "    for line in f:\n",
    "        word = line.strip()\n",
    "        if word not in most_male_biased:\n",
    "            other_words.append(word)\n",
    "\n",
    "print(len(other_words))\n",
    "\n",
    "with open(\"../data/sets_palabras/feminine_gram_gender.txt\", \"w\", encoding='utf-8') as fw:\n",
    "    for word in other_words:\n",
    "        fw.write(word+\"\\n\")\n",
    "        "
   ]
  },
  {
   "cell_type": "code",
   "execution_count": 13,
   "id": "498d0ddf-06ae-4280-adaf-dc90f9595476",
   "metadata": {},
   "outputs": [
    {
     "name": "stdout",
     "output_type": "stream",
     "text": [
      "10 most male biased projections: ['vigilante', 'aliento', 'bei', 'algo', 'no', 'estudiante', 'convenio', 'planteo', 'retiro', 'ya'] \n",
      "_________\n",
      "10 most female biased projections: ['cualidad', 'suya', 'tuya', 'cosa', 'ésta', 'versión', 'chica', 'gente', 'condición', 'estructura'] \n"
     ]
    },
    {
     "data": {
      "image/png": "[encoded data removed]",
      "text/plain": [
       "<Figure size 960x320 with 1 Axes>"
      ]
     },
     "metadata": {},
     "output_type": "display_data"
    },
    {
     "name": "stdout",
     "output_type": "stream",
     "text": [
      "['vigilante', 'aliento', 'bei', 'algo', 'no', 'estudiante', 'convenio', 'planteo', 'retiro', 'ya', 'postre', 'pnud', 'presidente', 'ministro', 'expreso', 'extenuante', 'acnur', 'paciente', 'financial', 'margen']\n"
     ]
    }
   ],
   "source": [
    "feminine_words = []\n",
    "\n",
    "with open(\"../data/sets_palabras/feminine_gram_gender.txt\", \"r\", encoding='utf-8') as f:\n",
    "    for line in f:\n",
    "        word = line.strip()\n",
    "        if word not in feminine_words:\n",
    "            feminine_words.append(word)\n",
    "\n",
    "most_male_biased, most_female_biased = tests.plot_most_biased(feminine_words, biased_model, grammatical_gender_direction, size=2)\n",
    "print(most_male_biased)"
   ]
  },
  {
   "cell_type": "code",
   "execution_count": 14,
   "id": "a30b480e-4bed-484b-b24c-f58bfe9ed804",
   "metadata": {},
   "outputs": [
    {
     "name": "stdout",
     "output_type": "stream",
     "text": [
      "4761\n"
     ]
    }
   ],
   "source": [
    "other_words = []\n",
    "\n",
    "with open(\"../data/sets_palabras/feminine_gram_gender.txt\", \"r\", encoding='utf-8') as f:\n",
    "    for line in f:\n",
    "        word = line.strip()\n",
    "        if word not in most_male_biased:\n",
    "            other_words.append(word)\n",
    "\n",
    "print(len(other_words))\n",
    "\n",
    "with open(\"../data/sets_palabras/feminine_gram_gender.txt\", \"w\", encoding='utf-8') as fw:\n",
    "    for word in other_words:\n",
    "        fw.write(word+\"\\n\")"
   ]
  },
  {
   "cell_type": "code",
   "execution_count": 15,
   "id": "8cd3d83c-1a57-48ba-bd62-e35ba59d5987",
   "metadata": {},
   "outputs": [
    {
     "name": "stdout",
     "output_type": "stream",
     "text": [
      "10 most male biased projections: ['iii', 'iv', 'mdc', 'new', 'jrc', 'contable', 'cómplice', 'parlamento', 'pcm', 'doble'] \n",
      "_________\n",
      "10 most female biased projections: ['cualidad', 'suya', 'tuya', 'cosa', 'ésta', 'versión', 'chica', 'gente', 'condición', 'estructura'] \n"
     ]
    },
    {
     "data": {
      "image/png": "[encoded data removed]",
      "text/plain": [
       "<Figure size 960x320 with 1 Axes>"
      ]
     },
     "metadata": {},
     "output_type": "display_data"
    },
    {
     "name": "stdout",
     "output_type": "stream",
     "text": [
      "['iii', 'iv', 'mdc', 'new', 'jrc', 'contable', 'cómplice', 'parlamento', 'pcm', 'doble', 'ii', 'loire', 'deco', 'siete', 'más', 'tanto', 'también', 'polivalente', 'fundamento', 'olaf']\n"
     ]
    }
   ],
   "source": [
    "feminine_words = []\n",
    "\n",
    "with open(\"../data/sets_palabras/feminine_gram_gender.txt\", \"r\", encoding='utf-8') as f:\n",
    "    for line in f:\n",
    "        word = line.strip()\n",
    "        if word not in feminine_words:\n",
    "            feminine_words.append(word)\n",
    "\n",
    "most_male_biased, most_female_biased = tests.plot_most_biased(feminine_words, biased_model, grammatical_gender_direction, size=2)\n",
    "print(most_male_biased)"
   ]
  },
  {
   "cell_type": "code",
   "execution_count": 16,
   "id": "650b44f4-99fe-47ac-aa3e-df38c9a1079f",
   "metadata": {},
   "outputs": [
    {
     "name": "stdout",
     "output_type": "stream",
     "text": [
      "4741\n"
     ]
    }
   ],
   "source": [
    "other_words = []\n",
    "\n",
    "with open(\"../data/sets_palabras/feminine_gram_gender.txt\", \"r\", encoding='utf-8') as f:\n",
    "    for line in f:\n",
    "        word = line.strip()\n",
    "        if word not in most_male_biased:\n",
    "            other_words.append(word)\n",
    "\n",
    "print(len(other_words))\n",
    "\n",
    "with open(\"../data/sets_palabras/feminine_gram_gender.txt\", \"w\", encoding='utf-8') as fw:\n",
    "    for word in other_words:\n",
    "        fw.write(word+\"\\n\")"
   ]
  },
  {
   "cell_type": "code",
   "execution_count": 17,
   "id": "57f700d7-47d5-4a8e-90d3-d6190be4f953",
   "metadata": {},
   "outputs": [
    {
     "name": "stdout",
     "output_type": "stream",
     "text": [
      "10 most male biased projections: ['idc', 'fiscal', 'hábil', 'best', 'representante', 'colega', 'deseo', 'nada', 'xii', 'icao'] \n",
      "_________\n",
      "10 most female biased projections: ['cualidad', 'suya', 'tuya', 'cosa', 'ésta', 'versión', 'chica', 'gente', 'condición', 'estructura'] \n"
     ]
    },
    {
     "data": {
      "image/png": "[encoded data removed]",
      "text/plain": [
       "<Figure size 960x320 with 1 Axes>"
      ]
     },
     "metadata": {},
     "output_type": "display_data"
    },
    {
     "name": "stdout",
     "output_type": "stream",
     "text": [
      "['idc', 'fiscal', 'hábil', 'best', 'representante', 'colega', 'deseo', 'nada', 'xii', 'icao', 'ideal', 'final', 'lloyds', 'vii', 'black', 'nic', 'maratón', 'xi', 'london', 'vigésimo']\n"
     ]
    }
   ],
   "source": [
    "feminine_words = []\n",
    "\n",
    "with open(\"../data/sets_palabras/feminine_gram_gender.txt\", \"r\", encoding='utf-8') as f:\n",
    "    for line in f:\n",
    "        word = line.strip()\n",
    "        if word not in feminine_words:\n",
    "            feminine_words.append(word)\n",
    "\n",
    "most_male_biased, most_female_biased = tests.plot_most_biased(feminine_words, biased_model, grammatical_gender_direction, size=2)\n",
    "print(most_male_biased)"
   ]
  },
  {
   "cell_type": "code",
   "execution_count": 18,
   "id": "68abde20-06e7-4b1f-b54e-1d99e582f987",
   "metadata": {},
   "outputs": [
    {
     "name": "stdout",
     "output_type": "stream",
     "text": [
      "4721\n"
     ]
    }
   ],
   "source": [
    "other_words = []\n",
    "\n",
    "with open(\"../data/sets_palabras/feminine_gram_gender.txt\", \"r\", encoding='utf-8') as f:\n",
    "    for line in f:\n",
    "        word = line.strip()\n",
    "        if word not in most_male_biased:\n",
    "            other_words.append(word)\n",
    "\n",
    "print(len(other_words))\n",
    "\n",
    "with open(\"../data/sets_palabras/feminine_gram_gender.txt\", \"w\", encoding='utf-8') as fw:\n",
    "    for word in other_words:\n",
    "        fw.write(word+\"\\n\")"
   ]
  },
  {
   "cell_type": "code",
   "execution_count": 19,
   "id": "2cfa4482-1a5c-415e-987f-38983c94969a",
   "metadata": {},
   "outputs": [
    {
     "name": "stdout",
     "output_type": "stream",
     "text": [
      "10 most male biased projections: ['frente', 'cse', 'antes', 'aún', 'mucho', 'xiii', 'dop', 'interior', 'previsible', 'sustainable'] \n",
      "_________\n",
      "10 most female biased projections: ['cualidad', 'suya', 'tuya', 'cosa', 'ésta', 'versión', 'chica', 'gente', 'condición', 'estructura'] \n"
     ]
    },
    {
     "data": {
      "image/png": "[encoded data removed]",
      "text/plain": [
       "<Figure size 960x320 with 1 Axes>"
      ]
     },
     "metadata": {},
     "output_type": "display_data"
    },
    {
     "name": "stdout",
     "output_type": "stream",
     "text": [
      "['frente', 'cse', 'antes', 'aún', 'mucho', 'xiii', 'dop', 'interior', 'previsible', 'sustainable', 'causante', 'triple', 'rechazo', 'adormidera', 'crm', 'inter', 'solar', 'unicef', 'mainstreaming', 'todavía']\n"
     ]
    }
   ],
   "source": [
    "feminine_words = []\n",
    "\n",
    "with open(\"../data/sets_palabras/feminine_gram_gender.txt\", \"r\", encoding='utf-8') as f:\n",
    "    for line in f:\n",
    "        word = line.strip()\n",
    "        if word not in feminine_words:\n",
    "            feminine_words.append(word)\n",
    "\n",
    "most_male_biased, most_female_biased = tests.plot_most_biased(feminine_words, biased_model, grammatical_gender_direction, size=2)\n",
    "print(most_male_biased)"
   ]
  },
  {
   "cell_type": "code",
   "execution_count": 20,
   "id": "f6f7973f-74de-4d4d-b6ec-1d85a219e09e",
   "metadata": {},
   "outputs": [
    {
     "name": "stdout",
     "output_type": "stream",
     "text": [
      "4701\n"
     ]
    }
   ],
   "source": [
    "other_words = []\n",
    "\n",
    "with open(\"../data/sets_palabras/feminine_gram_gender.txt\", \"r\", encoding='utf-8') as f:\n",
    "    for line in f:\n",
    "        word = line.strip()\n",
    "        if word not in most_male_biased:\n",
    "            other_words.append(word)\n",
    "\n",
    "print(len(other_words))\n",
    "\n",
    "with open(\"../data/sets_palabras/feminine_gram_gender.txt\", \"w\", encoding='utf-8') as fw:\n",
    "    for word in other_words:\n",
    "        fw.write(word+\"\\n\")"
   ]
  },
  {
   "cell_type": "code",
   "execution_count": 21,
   "id": "4c36b318-198f-4b7e-b481-9a47c11b579c",
   "metadata": {},
   "outputs": [
    {
     "name": "stdout",
     "output_type": "stream",
     "text": [
      "10 most male biased projections: ['western', 'ru', 'football', 'common', 'aun', 'viceprimer', 'garante', 'responsable', 'xxiii', 'pcp'] \n",
      "_________\n",
      "10 most female biased projections: ['cualidad', 'suya', 'tuya', 'cosa', 'ésta', 'versión', 'chica', 'gente', 'condición', 'estructura'] \n"
     ]
    },
    {
     "data": {
      "image/png": "[encoded data removed]",
      "text/plain": [
       "<Figure size 960x320 with 1 Axes>"
      ]
     },
     "metadata": {},
     "output_type": "display_data"
    },
    {
     "name": "stdout",
     "output_type": "stream",
     "text": [
      "['western', 'ru', 'football', 'common', 'aun', 'viceprimer', 'garante', 'responsable', 'xxiii', 'pcp', 'csu', 'mejor', 'fuerte', 'i', 'al', 'lra', 'comercial', 'determinante', 'v', 'mayo']\n"
     ]
    }
   ],
   "source": [
    "feminine_words = []\n",
    "\n",
    "with open(\"../data/sets_palabras/feminine_gram_gender.txt\", \"r\", encoding='utf-8') as f:\n",
    "    for line in f:\n",
    "        word = line.strip()\n",
    "        if word not in feminine_words:\n",
    "            feminine_words.append(word)\n",
    "\n",
    "most_male_biased, most_female_biased = tests.plot_most_biased(feminine_words, biased_model, grammatical_gender_direction, size=2)\n",
    "print(most_male_biased)"
   ]
  },
  {
   "cell_type": "code",
   "execution_count": 22,
   "id": "4673c515-f592-48e3-9be6-586502aa743b",
   "metadata": {},
   "outputs": [
    {
     "name": "stdout",
     "output_type": "stream",
     "text": [
      "4681\n"
     ]
    }
   ],
   "source": [
    "other_words = []\n",
    "\n",
    "with open(\"../data/sets_palabras/feminine_gram_gender.txt\", \"r\", encoding='utf-8') as f:\n",
    "    for line in f:\n",
    "        word = line.strip()\n",
    "        if word not in most_male_biased:\n",
    "            other_words.append(word)\n",
    "\n",
    "print(len(other_words))\n",
    "\n",
    "with open(\"../data/sets_palabras/feminine_gram_gender.txt\", \"w\", encoding='utf-8') as fw:\n",
    "    for word in other_words:\n",
    "        fw.write(word+\"\\n\")"
   ]
  },
  {
   "cell_type": "code",
   "execution_count": 23,
   "id": "9126ef38-ae53-4b04-81bc-b6fcbc5a44b5",
   "metadata": {},
   "outputs": [
    {
     "name": "stdout",
     "output_type": "stream",
     "text": [
      "10 most male biased projections: ['cultural', 'potente', 'total', 'ratio', 'tantas', 'restante', 'us', 'peor', 'recientemente', 'acp'] \n",
      "_________\n",
      "10 most female biased projections: ['cualidad', 'suya', 'tuya', 'cosa', 'ésta', 'versión', 'chica', 'gente', 'condición', 'estructura'] \n"
     ]
    },
    {
     "data": {
      "image/png": "[encoded data removed]",
      "text/plain": [
       "<Figure size 960x320 with 1 Axes>"
      ]
     },
     "metadata": {},
     "output_type": "display_data"
    },
    {
     "name": "stdout",
     "output_type": "stream",
     "text": [
      "['cultural', 'potente', 'total', 'ratio', 'tantas', 'restante', 'us', 'peor', 'recientemente', 'acp', 'cipd', 'distante', 'foreign', 'world', 'legal', 'gender', 'culpable', 'suficiente', 'split', 'fiat']\n"
     ]
    }
   ],
   "source": [
    "feminine_words = []\n",
    "\n",
    "with open(\"../data/sets_palabras/feminine_gram_gender.txt\", \"r\", encoding='utf-8') as f:\n",
    "    for line in f:\n",
    "        word = line.strip()\n",
    "        if word not in feminine_words:\n",
    "            feminine_words.append(word)\n",
    "\n",
    "most_male_biased, most_female_biased = tests.plot_most_biased(feminine_words, biased_model, grammatical_gender_direction, size=2)\n",
    "print(most_male_biased)"
   ]
  },
  {
   "cell_type": "code",
   "execution_count": 24,
   "id": "ca88ad42-32af-4351-8e07-2ef6656d473a",
   "metadata": {},
   "outputs": [
    {
     "name": "stdout",
     "output_type": "stream",
     "text": [
      "4661\n"
     ]
    }
   ],
   "source": [
    "other_words = []\n",
    "\n",
    "with open(\"../data/sets_palabras/feminine_gram_gender.txt\", \"r\", encoding='utf-8') as f:\n",
    "    for line in f:\n",
    "        word = line.strip()\n",
    "        if word not in most_male_biased:\n",
    "            other_words.append(word)\n",
    "\n",
    "print(len(other_words))\n",
    "\n",
    "with open(\"../data/sets_palabras/feminine_gram_gender.txt\", \"w\", encoding='utf-8') as fw:\n",
    "    for word in other_words:\n",
    "        fw.write(word+\"\\n\")"
   ]
  },
  {
   "cell_type": "code",
   "execution_count": 25,
   "id": "0a4d1306-3068-4efe-bc8e-838c83508283",
   "metadata": {},
   "outputs": [
    {
     "name": "stdout",
     "output_type": "stream",
     "text": [
      "10 most male biased projections: ['green', 'cha', 'dulce', 'line', 'x', 'temible', 'valiente', 'ex', 'considerable', 'entonces'] \n",
      "_________\n",
      "10 most female biased projections: ['cualidad', 'suya', 'tuya', 'cosa', 'ésta', 'versión', 'chica', 'gente', 'condición', 'estructura'] \n"
     ]
    },
    {
     "data": {
      "image/png": "[encoded data removed]",
      "text/plain": [
       "<Figure size 960x320 with 1 Axes>"
      ]
     },
     "metadata": {},
     "output_type": "display_data"
    },
    {
     "name": "stdout",
     "output_type": "stream",
     "text": [
      "['green', 'cha', 'dulce', 'line', 'x', 'temible', 'valiente', 'ex', 'considerable', 'entonces', 'protagonista', 'diferente', 'fsa', 'africa', 'cbi', 'eficiente', 'natural', 'manga', 'self', 'wada']\n"
     ]
    }
   ],
   "source": [
    "feminine_words = []\n",
    "\n",
    "with open(\"../data/sets_palabras/feminine_gram_gender.txt\", \"r\", encoding='utf-8') as f:\n",
    "    for line in f:\n",
    "        word = line.strip()\n",
    "        if word not in feminine_words:\n",
    "            feminine_words.append(word)\n",
    "\n",
    "most_male_biased, most_female_biased = tests.plot_most_biased(feminine_words, biased_model, grammatical_gender_direction, size=2)\n",
    "print(most_male_biased)"
   ]
  },
  {
   "cell_type": "code",
   "execution_count": 26,
   "id": "4fb1c757-fa05-46bf-ad62-0b65d18f2d9c",
   "metadata": {},
   "outputs": [
    {
     "name": "stdout",
     "output_type": "stream",
     "text": [
      "4641\n"
     ]
    }
   ],
   "source": [
    "other_words = []\n",
    "\n",
    "with open(\"../data/sets_palabras/feminine_gram_gender.txt\", \"r\", encoding='utf-8') as f:\n",
    "    for line in f:\n",
    "        word = line.strip()\n",
    "        if word not in most_male_biased:\n",
    "            other_words.append(word)\n",
    "\n",
    "print(len(other_words))\n",
    "\n",
    "with open(\"../data/sets_palabras/feminine_gram_gender.txt\", \"w\", encoding='utf-8') as fw:\n",
    "    for word in other_words:\n",
    "        fw.write(word+\"\\n\")"
   ]
  },
  {
   "cell_type": "code",
   "execution_count": 27,
   "id": "89dbfa6d-8f38-45d6-b03a-a3d672bfe178",
   "metadata": {},
   "outputs": [
    {
     "name": "stdout",
     "output_type": "stream",
     "text": [
      "10 most male biased projections: ['igual', 'cruel', 'business', 'agravante', 'bird', 'omnipotente', 'icann', 'orden', 'sofocante', 'hasta'] \n",
      "_________\n",
      "10 most female biased projections: ['cualidad', 'suya', 'tuya', 'cosa', 'ésta', 'versión', 'chica', 'gente', 'condición', 'estructura'] \n"
     ]
    },
    {
     "data": {
      "image/png": "[encoded data removed]",
      "text/plain": [
       "<Figure size 960x320 with 1 Axes>"
      ]
     },
     "metadata": {},
     "output_type": "display_data"
    },
    {
     "name": "stdout",
     "output_type": "stream",
     "text": [
      "['igual', 'cruel', 'business', 'agravante', 'bird', 'omnipotente', 'icann', 'orden', 'sofocante', 'hasta', 'siempre', 'elegante', 'bastante', 'o', 'imparable', 'consiguiente', 'brussels', 'renault', 'greater', 'infinitamente']\n"
     ]
    }
   ],
   "source": [
    "feminine_words = []\n",
    "\n",
    "with open(\"../data/sets_palabras/feminine_gram_gender.txt\", \"r\", encoding='utf-8') as f:\n",
    "    for line in f:\n",
    "        word = line.strip()\n",
    "        if word not in feminine_words:\n",
    "            feminine_words.append(word)\n",
    "\n",
    "most_male_biased, most_female_biased = tests.plot_most_biased(feminine_words, biased_model, grammatical_gender_direction, size=2)\n",
    "print(most_male_biased)"
   ]
  },
  {
   "cell_type": "code",
   "execution_count": 28,
   "id": "9e6d7cbe-5860-4547-937f-9c54f81fe818",
   "metadata": {},
   "outputs": [
    {
     "name": "stdout",
     "output_type": "stream",
     "text": [
      "4621\n"
     ]
    }
   ],
   "source": [
    "other_words = []\n",
    "\n",
    "with open(\"../data/sets_palabras/feminine_gram_gender.txt\", \"r\", encoding='utf-8') as f:\n",
    "    for line in f:\n",
    "        word = line.strip()\n",
    "        if word not in most_male_biased:\n",
    "            other_words.append(word)\n",
    "\n",
    "print(len(other_words))\n",
    "\n",
    "with open(\"../data/sets_palabras/feminine_gram_gender.txt\", \"w\", encoding='utf-8') as fw:\n",
    "    for word in other_words:\n",
    "        fw.write(word+\"\\n\")"
   ]
  },
  {
   "cell_type": "code",
   "execution_count": 29,
   "id": "085fa9f3-7837-46a0-b41b-bf07d1e9bf8b",
   "metadata": {},
   "outputs": [
    {
     "name": "stdout",
     "output_type": "stream",
     "text": [
      "10 most male biased projections: ['shell', 'oiea', 'ahora', 'policy', 'incoación', 'insultante', 'irremediable', 'deutsche', 'absolutamente', 'blue'] \n",
      "_________\n",
      "10 most female biased projections: ['cualidad', 'suya', 'tuya', 'cosa', 'ésta', 'versión', 'chica', 'gente', 'condición', 'estructura'] \n"
     ]
    },
    {
     "data": {
      "image/png": "[encoded data removed]",
      "text/plain": [
       "<Figure size 960x320 with 1 Axes>"
      ]
     },
     "metadata": {},
     "output_type": "display_data"
    },
    {
     "name": "stdout",
     "output_type": "stream",
     "text": [
      "['shell', 'oiea', 'ahora', 'policy', 'incoación', 'insultante', 'irremediable', 'deutsche', 'absolutamente', 'blue', 'facilitación', 'ces', 'laeken', 'conflict', 'poco', 'inmediatamente', 'preescolar', 'dma', 'incontrolable', 'fsc']\n"
     ]
    }
   ],
   "source": [
    "feminine_words = []\n",
    "\n",
    "with open(\"../data/sets_palabras/feminine_gram_gender.txt\", \"r\", encoding='utf-8') as f:\n",
    "    for line in f:\n",
    "        word = line.strip()\n",
    "        if word not in feminine_words:\n",
    "            feminine_words.append(word)\n",
    "\n",
    "most_male_biased, most_female_biased = tests.plot_most_biased(feminine_words, biased_model, grammatical_gender_direction, size=2)\n",
    "print(most_male_biased)"
   ]
  },
  {
   "cell_type": "code",
   "execution_count": null,
   "id": "165daa0a-b102-4a46-9ebd-823f07c2cac5",
   "metadata": {},
   "outputs": [],
   "source": [
    "# Hasta aquí (en los most male biased empiezan a salir con género femenino"
   ]
  },
  {
   "cell_type": "markdown",
   "id": "f3915720-f3a5-4112-ae79-de368d2ccffc",
   "metadata": {},
   "source": [
    "#### Contar número de adjetivos y número de sustantivos"
   ]
  },
  {
   "cell_type": "code",
   "execution_count": 3,
   "id": "12ca8f14-b103-4d10-9da1-3102f880eeaa",
   "metadata": {},
   "outputs": [],
   "source": [
    "def is_spanish_noun(word, POS_tag_pipeline):\n",
    "\n",
    "    doc = POS_tag_pipeline(word)\n",
    "    \n",
    "    return any(word.pos == 'NOUN' for sentence in doc.sentences for word in sentence.words)\n",
    "\n",
    "def is_spanish_adjective(word, POS_tag_pipeline):\n",
    "\n",
    "    doc = POS_tag_pipeline(word)\n",
    "    \n",
    "    return any(word.pos == 'ADJ' for sentence in doc.sentences for word in sentence.words)"
   ]
  },
  {
   "cell_type": "code",
   "execution_count": 7,
   "id": "7e8f475d-14e2-47b8-aa6e-199ca190d3bd",
   "metadata": {},
   "outputs": [
    {
     "name": "stderr",
     "output_type": "stream",
     "text": [
      "2024-11-15 10:08:29 INFO: Checking for updates to resources.json in case models have been updated.  Note: this behavior can be turned off with download_method=None or download_method=DownloadMethod.REUSE_RESOURCES\n"
     ]
    },
    {
     "data": {
      "application/vnd.jupyter.widget-view+json": {
       "model_id": "eae26fc6b96041df860e3162f1892b82",
       "version_major": 2,
       "version_minor": 0
      },
      "text/plain": [
       "Downloading https://raw.githubusercontent.com/stanfordnlp/stanza-resources/main/resources_1.9.0.json:   0%|   …"
      ]
     },
     "metadata": {},
     "output_type": "display_data"
    },
    {
     "name": "stderr",
     "output_type": "stream",
     "text": [
      "2024-11-15 10:08:29 INFO: Downloaded file to C:\\Users\\Usuario\\stanza_resources\\resources.json\n",
      "2024-11-15 10:08:29 WARNING: Language es package default expects mwt, which has been added\n",
      "2024-11-15 10:08:30 INFO: Loading these models for language: es (Spanish):\n",
      "===============================\n",
      "| Processor | Package         |\n",
      "-------------------------------\n",
      "| tokenize  | combined        |\n",
      "| mwt       | combined        |\n",
      "| pos       | combined_charlm |\n",
      "===============================\n",
      "\n",
      "2024-11-15 10:08:30 INFO: Using device: cpu\n",
      "2024-11-15 10:08:30 INFO: Loading: tokenize\n",
      "C:\\Users\\Usuario\\AppData\\Local\\Programs\\Python\\Python312\\Lib\\site-packages\\stanza\\models\\tokenization\\trainer.py:82: FutureWarning: You are using `torch.load` with `weights_only=False` (the current default value), which uses the default pickle module implicitly. It is possible to construct malicious pickle data which will execute arbitrary code during unpickling (See https://github.com/pytorch/pytorch/blob/main/SECURITY.md#untrusted-models for more details). In a future release, the default value for `weights_only` will be flipped to `True`. This limits the functions that could be executed during unpickling. Arbitrary objects will no longer be allowed to be loaded via this mode unless they are explicitly allowlisted by the user via `torch.serialization.add_safe_globals`. We recommend you start setting `weights_only=True` for any use case where you don't have full control of the loaded file. Please open an issue on GitHub for any issues related to this experimental feature.\n",
      "  checkpoint = torch.load(filename, lambda storage, loc: storage)\n",
      "2024-11-15 10:08:30 INFO: Loading: mwt\n",
      "2024-11-15 10:08:30 INFO: Loading: pos\n",
      "2024-11-15 10:08:30 INFO: Done loading processors!\n"
     ]
    },
    {
     "name": "stdout",
     "output_type": "stream",
     "text": [
      "['período', 'viernes', 'tema', 'curso', 'parlamento', 'señor', 'artículo', 'jueves', 'apartado', 'principio', 'informe', 'nombre', 'prestigio', 'presidente', 'gobernador', 'caso', 'tribunal', 'acceso', 'número', 'orden']\n",
      "['gran', 'primer', 'próximo', 'pasado', 'máximo', 'presente', 'hecho', 'personal', 'mayor', 'importante', 'excelente', 'pleno', 'enorme', 'sexto', 'primero', 'segundo', 'quinto', 'séptimo', 'citado', 'equivalente']\n",
      "['sr', 'medio', 'que', 'mismo', 'mal', 'otro', 'bien', 'status', 'fbi', 'bei', 'recién', 'antes', 'después', 'pakistán', 'dalai', 'gender', 'mister', 'tac', 'feder', 'yen']\n"
     ]
    }
   ],
   "source": [
    "POS_tag_pipeline = stanza.Pipeline(lang='es', processors='tokenize,pos')\n",
    "\n",
    "masc_adjectives = []\n",
    "masc_nouns = []\n",
    "masc_others = []\n",
    "\n",
    "with open(\"../data/sets_palabras/masculine_gram_gender.txt\", \"r\", encoding='utf-8') as fr:\n",
    "    for line in fr:\n",
    "        word = line.strip()\n",
    "        if is_spanish_noun(word, POS_tag_pipeline):\n",
    "            masc_nouns.append(word)\n",
    "        elif is_spanish_adjective(word, POS_tag_pipeline):\n",
    "            masc_adjectives.append(word)\n",
    "        else:\n",
    "            masc_others.append(word)\n",
    "\n",
    "print(masc_nouns[:20])\n",
    "print(masc_adjectives[:20])\n",
    "print(masc_others[:20])"
   ]
  },
  {
   "cell_type": "code",
   "execution_count": 9,
   "id": "3720f520-56ac-4c0b-b3ed-739b9e5e1ad5",
   "metadata": {},
   "outputs": [
    {
     "name": "stdout",
     "output_type": "stream",
     "text": [
      "['unión', 'prensa', 'televisión', 'asamblea', 'inadmisibilidad', 'ejecución', 'pena', 'posición', 'comunidad', 'institución', 'facultad', 'condena', 'línea', 'atención', 'información', 'base', 'reunión', 'legislación', 'razón', 'junta']\n",
      "['última', 'inmensa', 'nueva', 'segunda', 'primera', 'puesta', 'deficiente', 'práctica', 'máxima', 'creciente', 'progresiva', 'larga', 'exagerada', 'plena', 'llegada', 'escasa', 'correcta', 'pequeña', 'buena', 'recogida']\n",
      "['ue', 'misma', 'media', 'poca', 'era', 'ley', 'otra', 'itv', 'classification', 'delivery', 'hemos', 'onu', 'tv', 'political', 'mañana', 'ce', 'nº', 'unmik', 'osce', 'kfor']\n"
     ]
    }
   ],
   "source": [
    "fem_adjectives = []\n",
    "fem_nouns = []\n",
    "fem_others = []\n",
    "with open(\"../data/sets_palabras/feminine_gram_gender.txt\", \"r\", encoding='utf-8') as fr:\n",
    "    for line in fr:\n",
    "        word = line.strip()\n",
    "        if is_spanish_noun(word, POS_tag_pipeline):\n",
    "            fem_nouns.append(word)\n",
    "        elif is_spanish_adjective(word, POS_tag_pipeline):\n",
    "            fem_adjectives.append(word)\n",
    "        else:\n",
    "            fem_others.append(word)\n",
    "\n",
    "print(fem_nouns[:20])\n",
    "print(fem_adjectives[:20])\n",
    "print(fem_others[:20])"
   ]
  },
  {
   "cell_type": "code",
   "execution_count": 10,
   "id": "ffb45b81-37db-40cf-9330-dada4aa64a95",
   "metadata": {},
   "outputs": [
    {
     "name": "stdout",
     "output_type": "stream",
     "text": [
      "3451\n",
      "891\n",
      "244\n",
      "2646\n",
      "812\n",
      "331\n"
     ]
    }
   ],
   "source": [
    "print(len(fem_nouns))\n",
    "print(len(fem_adjectives))\n",
    "print(len(fem_others))\n",
    "\n",
    "print(len(masc_nouns))\n",
    "print(len(masc_adjectives))\n",
    "print(len(masc_others))"
   ]
  },
  {
   "cell_type": "code",
   "execution_count": 13,
   "id": "454f2d91-2135-4936-bfb2-07c232ff21c4",
   "metadata": {},
   "outputs": [],
   "source": [
    "from itertools import zip_longest\n",
    "\n",
    "with open(\"../data/sets_palabras/feminine_gram_gender_V2.txt\", \"w\", encoding='utf-8') as fw:\n",
    "    for noun, adjective in zip_longest(fem_nouns, fem_adjectives):\n",
    "        fw.write(noun + \"\\n\")\n",
    "        \n",
    "        if adjective is not None:\n",
    "            fw.write(adjective + \"\\n\")"
   ]
  },
  {
   "cell_type": "code",
   "execution_count": 14,
   "id": "8ac75799-f688-43f1-b6e1-425472598d9a",
   "metadata": {},
   "outputs": [],
   "source": [
    "with open(\"../data/sets_palabras/masculine_gram_gender_V2.txt\", \"w\", encoding='utf-8') as fw:\n",
    "    for noun, adjective in zip_longest(masc_nouns, masc_adjectives):\n",
    "        fw.write(noun + \"\\n\")\n",
    "        \n",
    "        if adjective is not None:\n",
    "            fw.write(adjective + \"\\n\")"
   ]
  },
  {
   "cell_type": "markdown",
   "id": "4b2887d8-5960-41db-9d3e-94b98ee46fb8",
   "metadata": {},
   "source": [
    "#### Traducir palabras"
   ]
  },
  {
   "cell_type": "code",
   "execution_count": 1,
   "id": "ce133d08-fb54-4a1b-9d27-2fd418e85ed9",
   "metadata": {},
   "outputs": [],
   "source": [
    "from deep_translator import GoogleTranslator\n",
    "to_translate = 'I want to translate this text'\n",
    "translated = GoogleTranslator(source='auto', target='de').translate(to_translate)\n",
    "# outpout -> Ich möchte diesen Text übersetzen"
   ]
  },
  {
   "cell_type": "code",
   "execution_count": 2,
   "id": "afa7b9ec-ed40-46be-a1aa-af299eeaf0d1",
   "metadata": {},
   "outputs": [
    {
     "name": "stdout",
     "output_type": "stream",
     "text": [
      "Ich möchte diesen Text übersetzen\n"
     ]
    }
   ],
   "source": [
    "print(translated)"
   ]
  },
  {
   "cell_type": "markdown",
   "id": "7e7b7a29-9a8a-4a09-a6aa-94206dd155ef",
   "metadata": {},
   "source": [
    "#### Traducir palabras con género gramatical"
   ]
  },
  {
   "cell_type": "code",
   "execution_count": 9,
   "id": "0231ae28-dd1d-4428-972e-ceba3795f3e1",
   "metadata": {},
   "outputs": [
    {
     "name": "stdout",
     "output_type": "stream",
     "text": [
      "fédération\n",
      "continental\n",
      "exploitation\n",
      "judiciaire\n",
      "enchaînement\n",
      "approprié\n",
      "identité\n",
      "justifié\n",
      "observance\n",
      "authentique\n",
      "expédition\n",
      "boisé\n",
      "acheté\n",
      "connu\n",
      "corrigé\n",
      "cru\n",
      "découvert\n",
      "dit\n",
      "écrit\n",
      "étudié\n",
      "exposé\n",
      "gagné\n",
      "fait\n",
      "imprimé\n",
      "inscrit\n",
      "allers\n",
      "joue\n",
      "lire\n",
      "mort\n",
      "payé\n",
      "pensée\n",
      "pertes\n",
      "ensemble\n",
      "cassé\n",
      "vues\n",
      "ce\n",
      "sont\n",
      "que\n",
      "ceux\n",
      "que\n",
      "ceux\n"
     ]
    }
   ],
   "source": [
    "from deep_translator import GoogleTranslator\n",
    "from deep_translator import MyMemoryTranslator\n",
    "from deep_translator import LingueeTranslator\n",
    "\n",
    "translated = GoogleTranslator(source='spanish', target='french').translate_file(\"../data/sets_palabras/ESP/prueba.txt\")\n",
    "print(translated)"
   ]
  },
  {
   "cell_type": "code",
   "execution_count": 10,
   "id": "043bd69a-8133-4a00-81f0-6dbeb9637ebd",
   "metadata": {},
   "outputs": [
    {
     "name": "stdout",
     "output_type": "stream",
     "text": [
      "fédération\n",
      "continental\n",
      "exploitation\n",
      "judiciaire\n",
      "concaténation\n",
      "appropriée\n",
      "identité\n",
      "justifiée\n",
      "observance\n",
      "authentique\n",
      "expédition\n",
      "boisée\n",
      "achetées\n",
      "connues\n",
      "corrigées\n",
      "crues\n",
      "découvertes\n",
      "dites\n",
      "écrites\n",
      "étudiées\n",
      "exposées\n",
      "gagnées\n",
      "faites\n",
      "imprimées\n",
      "inscrites\n",
      "aller\n",
      "coups\n",
      "lues\n",
      "mortes\n",
      "payées\n",
      "pensées\n",
      "perdues\n",
      "mises\n",
      "cassées\n",
      "vues\n",
      "cette\n",
      "ces\n",
      "cette\n",
      "ces\n",
      "cette\n",
      "celles\n"
     ]
    }
   ],
   "source": [
    "translated = MyMemoryTranslator(source='spanish', target='french').translate_file(\"../data/sets_palabras/ESP/prueba.txt\")\n",
    "print(translated)"
   ]
  },
  {
   "cell_type": "code",
   "execution_count": 11,
   "id": "8ba53dec-3dce-439e-8d37-49300da3e5e1",
   "metadata": {},
   "outputs": [],
   "source": [
    "words = []\n",
    "with open(\"../data/sets_palabras/ESP/prueba.txt\", \"r\", encoding='utf-8') as fr:\n",
    "    for line in fr:\n",
    "        word = line.strip()\n",
    "        words.append(word)"
   ]
  },
  {
   "cell_type": "code",
   "execution_count": 12,
   "id": "f1649fa4-0c57-46ba-a0e6-87199220da76",
   "metadata": {},
   "outputs": [
    {
     "ename": "ElementNotFoundInGetRequest",
     "evalue": "[] --> Required element was not found in the API response",
     "output_type": "error",
     "traceback": [
      "\u001b[1;31m---------------------------------------------------------------------------\u001b[0m",
      "\u001b[1;31mElementNotFoundInGetRequest\u001b[0m               Traceback (most recent call last)",
      "Cell \u001b[1;32mIn[12], line 1\u001b[0m\n\u001b[1;32m----> 1\u001b[0m translated \u001b[38;5;241m=\u001b[39m \u001b[43mLingueeTranslator\u001b[49m\u001b[43m(\u001b[49m\u001b[43msource\u001b[49m\u001b[38;5;241;43m=\u001b[39;49m\u001b[38;5;124;43m'\u001b[39;49m\u001b[38;5;124;43mspanish\u001b[39;49m\u001b[38;5;124;43m'\u001b[39;49m\u001b[43m,\u001b[49m\u001b[43m \u001b[49m\u001b[43mtarget\u001b[49m\u001b[38;5;241;43m=\u001b[39;49m\u001b[38;5;124;43m'\u001b[39;49m\u001b[38;5;124;43mfrench\u001b[39;49m\u001b[38;5;124;43m'\u001b[39;49m\u001b[43m)\u001b[49m\u001b[38;5;241;43m.\u001b[39;49m\u001b[43mtranslate_words\u001b[49m\u001b[43m(\u001b[49m\u001b[43mwords\u001b[49m\u001b[43m)\u001b[49m\n\u001b[0;32m      2\u001b[0m \u001b[38;5;28mprint\u001b[39m(translated)\n",
      "File \u001b[1;32m~\\AppData\\Local\\Programs\\Python\\Python312\\Lib\\site-packages\\deep_translator\\linguee.py:114\u001b[0m, in \u001b[0;36mLingueeTranslator.translate_words\u001b[1;34m(self, words, **kwargs)\u001b[0m\n\u001b[0;32m    112\u001b[0m translated_words \u001b[38;5;241m=\u001b[39m []\n\u001b[0;32m    113\u001b[0m \u001b[38;5;28;01mfor\u001b[39;00m word \u001b[38;5;129;01min\u001b[39;00m words:\n\u001b[1;32m--> 114\u001b[0m     translated_words\u001b[38;5;241m.\u001b[39mappend(\u001b[38;5;28;43mself\u001b[39;49m\u001b[38;5;241;43m.\u001b[39;49m\u001b[43mtranslate\u001b[49m\u001b[43m(\u001b[49m\u001b[43mword\u001b[49m\u001b[38;5;241;43m=\u001b[39;49m\u001b[43mword\u001b[49m\u001b[43m,\u001b[49m\u001b[43m \u001b[49m\u001b[38;5;241;43m*\u001b[39;49m\u001b[38;5;241;43m*\u001b[39;49m\u001b[43mkwargs\u001b[49m\u001b[43m)\u001b[49m)\n\u001b[0;32m    115\u001b[0m \u001b[38;5;28;01mreturn\u001b[39;00m translated_words\n",
      "File \u001b[1;32m~\\AppData\\Local\\Programs\\Python\\Python312\\Lib\\site-packages\\deep_translator\\linguee.py:83\u001b[0m, in \u001b[0;36mLingueeTranslator.translate\u001b[1;34m(self, word, return_all, **kwargs)\u001b[0m\n\u001b[0;32m     80\u001b[0m response\u001b[38;5;241m.\u001b[39mclose()\n\u001b[0;32m     82\u001b[0m \u001b[38;5;28;01mif\u001b[39;00m \u001b[38;5;129;01mnot\u001b[39;00m elements:\n\u001b[1;32m---> 83\u001b[0m     \u001b[38;5;28;01mraise\u001b[39;00m ElementNotFoundInGetRequest(elements)\n\u001b[0;32m     85\u001b[0m filtered_elements \u001b[38;5;241m=\u001b[39m []\n\u001b[0;32m     86\u001b[0m \u001b[38;5;28;01mfor\u001b[39;00m el \u001b[38;5;129;01min\u001b[39;00m elements:\n",
      "\u001b[1;31mElementNotFoundInGetRequest\u001b[0m: [] --> Required element was not found in the API response"
     ]
    }
   ],
   "source": [
    "translated = LingueeTranslator(source='spanish', target='french').translate_words(words)\n",
    "print(translated)"
   ]
  },
  {
   "cell_type": "markdown",
   "id": "2c12e142-d400-4e52-be48-db987001e0ea",
   "metadata": {},
   "source": [
    "Para francés, MyMemoryTranslator es el mejor (mantiene el género femenino)"
   ]
  },
  {
   "cell_type": "code",
   "execution_count": 3,
   "id": "0c35b5d5-f8e7-40a5-96bb-1712dfa8b67b",
   "metadata": {},
   "outputs": [],
   "source": [
    "with open(\"../data/sets_palabras/FR/FR_masculine_gram_fem_3500.txt\", \"w\", encoding='utf-8') as fw:\n",
    "        fw.write(translated)\n"
   ]
  },
  {
   "cell_type": "code",
   "execution_count": 1,
   "id": "77d1de5d-d964-474a-beb3-15ca3ad5ed99",
   "metadata": {},
   "outputs": [],
   "source": [
    "from deep_translator import MyMemoryTranslator\n",
    "\n",
    "words = []\n",
    "count = 0\n",
    "with open(\"../data/sets_palabras/ES/ES_gram_fem_1000.txt\", \"r\", encoding='utf-8') as fr:\n",
    "    for line in fr:\n",
    "        word = line.strip()\n",
    "        count = count + 1\n",
    "                   \n",
    "        words.append(word)\n",
    "        \n",
    "        \n",
    "        if(count % 10 == 0):\n",
    "            with open(\"../data/sets_palabras/ES/temp.txt\", \"w\", encoding='utf-8') as fw:\n",
    "                for word in words:\n",
    "                    fw.write(word + \"\\n\")\n",
    "                    \n",
    "            words = []\n",
    "            \n",
    "            translated = MyMemoryTranslator(source='spanish', target='french').translate_file(\"../data/sets_palabras/ES/temp.txt\")\n",
    "            \n",
    "            with open(\"../data/sets_palabras/FR/FR_gram_fem_1000.txt\", \"a\", encoding='utf-8') as fw:\n",
    "                fw.write(\"\\n\")\n",
    "                fw.write(translated)"
   ]
  },
  {
   "cell_type": "code",
   "execution_count": 3,
   "id": "47a83446-c6c9-4ac8-bf66-d4eeba6288dc",
   "metadata": {},
   "outputs": [],
   "source": [
    "from deep_translator import MyMemoryTranslator\n",
    "\n",
    "words = []\n",
    "count = 0\n",
    "with open(\"../data/sets_palabras/ES/ES_gram_masc_1000.txt\", \"r\", encoding='utf-8') as fr:\n",
    "    for line in fr:\n",
    "        word = line.strip()\n",
    "        count = count + 1\n",
    "                   \n",
    "        words.append(word)\n",
    "        \n",
    "        \n",
    "        if(count % 10 == 0):\n",
    "            with open(\"../data/sets_palabras/ES/temp.txt\", \"w\", encoding='utf-8') as fw:\n",
    "                for word in words:\n",
    "                    fw.write(word + \"\\n\")\n",
    "                    \n",
    "            words = []\n",
    "            \n",
    "            translated = MyMemoryTranslator(source='spanish', target='french').translate_file(\"../data/sets_palabras/ES/temp.txt\")\n",
    "            \n",
    "            with open(\"../data/sets_palabras/FR/FR_gram_masc_1000.txt\", \"a\", encoding='utf-8') as fw:\n",
    "                fw.write(\"\\n\")\n",
    "                fw.write(translated)"
   ]
  },
  {
   "cell_type": "markdown",
   "id": "0952cfea-df93-40b6-9026-633e3b44efff",
   "metadata": {},
   "source": [
    "### CORPES XXI"
   ]
  },
  {
   "cell_type": "markdown",
   "id": "7552b094-aacf-4046-a32f-7eea624fe0bb",
   "metadata": {},
   "source": [
    "Clean"
   ]
  },
  {
   "cell_type": "code",
   "execution_count": 16,
   "id": "9e01594f-193c-4ff0-b26c-e1e31f00fed9",
   "metadata": {},
   "outputs": [
    {
     "name": "stdout",
     "output_type": "stream",
     "text": [
      "Words have been extracted and saved to: ../data/sets_palabras/ES/gram/CORPES_f_clean.txt\n"
     ]
    }
   ],
   "source": [
    "input_file = \"../data/sets_palabras/ES/gram/CORPES_f.txt\"  \n",
    "output_file = \"../data/sets_palabras/ES/gram/CORPES_f_clean.txt\"  \n",
    "\n",
    "# Open the file and process each line\n",
    "with open(input_file, \"r\", encoding=\"utf-8\") as infile, open(output_file, \"w\", encoding=\"utf-8\") as outfile:\n",
    "    for line in infile:\n",
    "        # Split the line by tabs and take the first element\n",
    "        word = line.split(\"\\t\")[0].lower()\n",
    "        # Write the word to the output file\n",
    "        outfile.write(word + \"\\n\")\n",
    "\n",
    "print(\"Words have been extracted and saved to:\", output_file)"
   ]
  },
  {
   "cell_type": "code",
   "execution_count": 14,
   "id": "449f1d4c-a4a6-40b4-a9ad-0a9f4894ee2d",
   "metadata": {},
   "outputs": [
    {
     "name": "stdout",
     "output_type": "stream",
     "text": [
      "Words have been extracted and saved to: ../data/sets_palabras/ES/gram/CORPES_m_clean.txt\n"
     ]
    }
   ],
   "source": [
    "input_file = \"../data/sets_palabras/ES/gram/CORPES_m.txt\"  \n",
    "output_file = \"../data/sets_palabras/ES/gram/CORPES_m_clean.txt\"  \n",
    "\n",
    "# Open the file and process each line\n",
    "with open(input_file, \"r\", encoding=\"utf-8\") as infile, open(output_file, \"w\", encoding=\"utf-8\") as outfile:\n",
    "    for line in infile:\n",
    "        # Split the line by tabs and take the first element\n",
    "        word = line.split(\"\\t\")[0].lower()\n",
    "        # Write the word to the output file\n",
    "        outfile.write(word + \"\\n\")\n",
    "\n",
    "print(\"Words have been extracted and saved to:\", output_file)"
   ]
  },
  {
   "cell_type": "markdown",
   "id": "b6e723b9-f5c8-424b-a7a5-b9845a1392f3",
   "metadata": {},
   "source": [
    "Filter adjectives"
   ]
  },
  {
   "cell_type": "code",
   "execution_count": null,
   "id": "53bf6af6-ee95-4aeb-aa28-1fe8b53af784",
   "metadata": {},
   "outputs": [],
   "source": [
    "from gensim.models.keyedvectors import KeyedVectors\n",
    "ES_emb_model = KeyedVectors.load('../data/embeddings/keyedvectors/model_esp.kv', mmap='r')"
   ]
  },
  {
   "cell_type": "code",
   "execution_count": 11,
   "id": "5c154369-e408-4d65-bb9f-1f4832ea6ca7",
   "metadata": {},
   "outputs": [
    {
     "name": "stdout",
     "output_type": "stream",
     "text": [
      "Words have been extracted and saved to: ../data/sets_palabras/ES/gram/ES_ADJ_sg_f_test.txt\n"
     ]
    }
   ],
   "source": [
    "input_file = \"../data/sets_palabras/ES/gram/CORPES_f.txt\"  \n",
    "output_file = \"../data/sets_palabras/ES/gram/ES_ADJ_sg_f_test.txt\"  \n",
    "\n",
    "with open(input_file, \"r\", encoding=\"utf-8\") as infile, open(output_file, \"w\", encoding=\"utf-8\") as outfile:\n",
    "    for line in infile:\n",
    "        word = line.split(\"\\t\")[0]\n",
    "        if word.isalpha() and word in ES_emb_model and word.endswith(\"a\"):\n",
    "            outfile.write(word + \"\\n\")\n",
    "\n",
    "print(\"Words have been extracted and saved to:\", output_file)"
   ]
  },
  {
   "cell_type": "code",
   "execution_count": 13,
   "id": "7c7b12b2-0163-4f1c-b438-86d4786e5b37",
   "metadata": {},
   "outputs": [
    {
     "name": "stdout",
     "output_type": "stream",
     "text": [
      "Words have been extracted and saved to: ../data/sets_palabras/ES/gram/ES_ADJ_sg_m_test.txt\n"
     ]
    }
   ],
   "source": [
    "input_file = \"../data/sets_palabras/ES/gram/CORPES_m.txt\"  \n",
    "output_file = \"../data/sets_palabras/ES/gram/ES_ADJ_sg_m_test.txt\"  \n",
    "\n",
    "with open(input_file, \"r\", encoding=\"utf-8\") as infile, open(output_file, \"w\", encoding=\"utf-8\") as outfile:\n",
    "    for line in infile:\n",
    "        word = line.split(\"\\t\")[0]\n",
    "        if word.isalpha() and word in ES_emb_model and word.endswith(\"o\"):\n",
    "            outfile.write(word + \"\\n\")\n",
    "\n",
    "print(\"Words have been extracted and saved to:\", output_file)"
   ]
  },
  {
   "cell_type": "code",
   "execution_count": 15,
   "id": "cb135348-2c39-42aa-a5a2-e25d93a19727",
   "metadata": {},
   "outputs": [
    {
     "name": "stdout",
     "output_type": "stream",
     "text": [
      "Words have been extracted and saved to: ../data/sets_palabras/ES/gram/ES_ADJ_pl_m_test.txt\n"
     ]
    }
   ],
   "source": [
    "input_file = \"../data/sets_palabras/ES/gram/CORPES_m.txt\"  \n",
    "output_file = \"../data/sets_palabras/ES/gram/ES_ADJ_pl_m_test.txt\"  \n",
    "\n",
    "with open(input_file, \"r\", encoding=\"utf-8\") as infile, open(output_file, \"w\", encoding=\"utf-8\") as outfile:\n",
    "    for line in infile:\n",
    "        word = line.split(\"\\t\")[0]\n",
    "        if word.isalpha() and word in ES_emb_model and word.endswith(\"os\"):\n",
    "            outfile.write(word + \"\\n\")\n",
    "\n",
    "print(\"Words have been extracted and saved to:\", output_file)"
   ]
  },
  {
   "cell_type": "code",
   "execution_count": 17,
   "id": "b1edd9fe-5c55-4120-b94d-242303e33cf3",
   "metadata": {},
   "outputs": [
    {
     "name": "stdout",
     "output_type": "stream",
     "text": [
      "Words have been extracted and saved to: ../data/sets_palabras/ES/gram/ES_ADJ_pl_f_test.txt\n"
     ]
    }
   ],
   "source": [
    "input_file = \"../data/sets_palabras/ES/gram/CORPES_f.txt\"  \n",
    "output_file = \"../data/sets_palabras/ES/gram/ES_ADJ_pl_f_test.txt\"  \n",
    "\n",
    "with open(input_file, \"r\", encoding=\"utf-8\") as infile, open(output_file, \"w\", encoding=\"utf-8\") as outfile:\n",
    "    for line in infile:\n",
    "        word = line.split(\"\\t\")[0]\n",
    "        if word.isalpha() and word in ES_emb_model and word.endswith(\"as\"):\n",
    "            outfile.write(word + \"\\n\")\n",
    "\n",
    "print(\"Words have been extracted and saved to:\", output_file)"
   ]
  },
  {
   "cell_type": "markdown",
   "id": "e994cde7-b8a2-436a-be4c-747794acb5af",
   "metadata": {},
   "source": [
    "Filter nouns"
   ]
  },
  {
   "cell_type": "code",
   "execution_count": 4,
   "id": "2c367421-fbf1-46cc-815b-2b7dd1a96a05",
   "metadata": {},
   "outputs": [],
   "source": [
    "from gensim.models.keyedvectors import KeyedVectors\n",
    "ES_emb_model = KeyedVectors.load('../data/embeddings/keyedvectors/model_esp.kv', mmap='r')"
   ]
  },
  {
   "cell_type": "code",
   "execution_count": 6,
   "id": "eb735140-b2be-4cae-b599-35d4c28b1322",
   "metadata": {},
   "outputs": [
    {
     "name": "stdout",
     "output_type": "stream",
     "text": [
      "Words have been extracted and saved to: ../data/sets_palabras/ES/gram/ES_NOUN_sg_m_test.txt\n"
     ]
    }
   ],
   "source": [
    "input_file = \"../data/sets_palabras/ES/gram/CORPES_m.txt\"  \n",
    "output_file = \"../data/sets_palabras/ES/gram/ES_NOUN_sg_m_test.txt\" \n",
    "\n",
    "with open(input_file, \"r\", encoding=\"utf-8\") as infile, open(output_file, \"w\", encoding=\"utf-8\") as outfile:\n",
    "    for line in infile:\n",
    "        word = line.split(\"\\t\")[0]\n",
    "        if word.isalpha() and word in ES_emb_model and not word.endswith(\"a\"):\n",
    "            outfile.write(word + \"\\n\")\n",
    "\n",
    "print(\"Words have been extracted and saved to:\", output_file)"
   ]
  },
  {
   "cell_type": "code",
   "execution_count": 7,
   "id": "26f9a6f1-01fd-4a97-b87e-864e2b5c21f3",
   "metadata": {},
   "outputs": [
    {
     "name": "stdout",
     "output_type": "stream",
     "text": [
      "Words have been extracted and saved to: ../data/sets_palabras/ES/gram/ES_NOUN_sg_f_test.txt\n"
     ]
    }
   ],
   "source": [
    "input_file = \"../data/sets_palabras/ES/gram/CORPES_f.txt\"  \n",
    "output_file = \"../data/sets_palabras/ES/gram/ES_NOUN_sg_f_test.txt\" \n",
    "\n",
    "with open(input_file, \"r\", encoding=\"utf-8\") as infile, open(output_file, \"w\", encoding=\"utf-8\") as outfile:\n",
    "    for line in infile:\n",
    "        word = line.split(\"\\t\")[0]\n",
    "        if word.isalpha() and word in ES_emb_model and not word.endswith(\"o\"):\n",
    "            outfile.write(word + \"\\n\")\n",
    "\n",
    "print(\"Words have been extracted and saved to:\", output_file)"
   ]
  },
  {
   "cell_type": "code",
   "execution_count": 9,
   "id": "ef6d48f5-efad-4676-9c36-462aeca31887",
   "metadata": {},
   "outputs": [
    {
     "name": "stdout",
     "output_type": "stream",
     "text": [
      "Words have been extracted and saved to: ../data/sets_palabras/ES/gram/ES_NOUN_pl_m_test.txt\n"
     ]
    }
   ],
   "source": [
    "input_file = \"../data/sets_palabras/ES/gram/CORPES_m.txt\"  \n",
    "output_file = \"../data/sets_palabras/ES/gram/ES_NOUN_pl_m_test.txt\" \n",
    "\n",
    "with open(input_file, \"r\", encoding=\"utf-8\") as infile, open(output_file, \"w\", encoding=\"utf-8\") as outfile:\n",
    "    for line in infile:\n",
    "        word = line.split(\"\\t\")[0]\n",
    "        if word.isalpha() and word in ES_emb_model and not word.endswith(\"as\"):\n",
    "            outfile.write(word + \"\\n\")\n",
    "\n",
    "print(\"Words have been extracted and saved to:\", output_file)"
   ]
  },
  {
   "cell_type": "code",
   "execution_count": 3,
   "id": "2d3590dc-6d47-449c-8736-5c180f7389d9",
   "metadata": {},
   "outputs": [
    {
     "name": "stdout",
     "output_type": "stream",
     "text": [
      "Words have been extracted and saved to: ../data/sets_palabras/ES/gram/ES_NOUN_pl_m.txt\n"
     ]
    }
   ],
   "source": [
    "# Input file path\n",
    "input_file = \"../data/sets_palabras/ES/gram/CORPES_m.txt\"  \n",
    "output_file = \"../data/sets_palabras/ES/gram/ES_NOUN_pl_m.txt\"   # Output file path\n",
    "\n",
    "# Open the file and process each line\n",
    "with open(input_file, \"r\", encoding=\"utf-8\") as infile, open(output_file, \"w\", encoding=\"utf-8\") as outfile:\n",
    "    for line in infile:\n",
    "        # Split the line by tabs and take the first element\n",
    "        word = line.split(\"\\t\")[0]\n",
    "        if word.isalpha():\n",
    "            outfile.write(word + \"\\n\")\n",
    "\n",
    "print(\"Words have been extracted and saved to:\", output_file)"
   ]
  },
  {
   "cell_type": "markdown",
   "id": "3b701061-4a87-496f-9dd4-f8cde9a1d084",
   "metadata": {},
   "source": [
    "### ES_gram_LDA_f (34784)"
   ]
  },
  {
   "cell_type": "code",
   "execution_count": 3,
   "id": "75d90fe8-7bea-4e57-8b68-5d56f0f76f4d",
   "metadata": {},
   "outputs": [
    {
     "name": "stdout",
     "output_type": "stream",
     "text": [
      "Alternated words have been saved to: ../data/sets_palabras/ES/gram/ES_gram_LDA_f.txt\n"
     ]
    }
   ],
   "source": [
    "# Input file paths\n",
    "file1 = \"../data/sets_palabras/ES/gram/ES_NOUN_sg_f.txt\"\n",
    "file2 = \"../data/sets_palabras/ES/gram/ES_ADJ_pl_f.txt\"\n",
    "file3 = \"../data/sets_palabras/ES/gram/ES_NOUN_pl_f.txt\"\n",
    "file4 = \"../data/sets_palabras/ES/gram/ES_ADJ_sg_f.txt\"\n",
    "\n",
    "output_file = \"../data/sets_palabras/ES/gram/ES_gram_LDA_f.txt\"\n",
    "\n",
    "\n",
    "with open(file1, \"r\", encoding=\"utf-8\") as f1, \\\n",
    "        open(file2, \"r\", encoding=\"utf-8\") as f2, \\\n",
    "        open(file3, \"r\", encoding=\"utf-8\") as f3, \\\n",
    "        open(file4, \"r\", encoding=\"utf-8\") as f4, \\\n",
    "        open(output_file, \"w\", encoding=\"utf-8\") as outfile:\n",
    "        \n",
    "        words1 = [line.strip() for line in f1 if line.strip()]\n",
    "        words2 = [line.strip() for line in f2 if line.strip()]\n",
    "        words3 = [line.strip() for line in f3 if line.strip()]\n",
    "        words4 = [line.strip() for line in f4 if line.strip()]\n",
    "\n",
    "            \n",
    "        alternated_words = []\n",
    "        for w1, w2, w3, w4 in zip(words1, words2, words3, words4):\n",
    "            w1 = w1.lower()\n",
    "            w2 = w2.lower()\n",
    "            w3 = w3.lower()\n",
    "            w4 = w4.lower()\n",
    "            alternated_words.append(w1)\n",
    "            alternated_words.append(w2)\n",
    "            alternated_words.append(w3)\n",
    "            alternated_words.append(w4)\n",
    "\n",
    "        outfile.write(\"\\n\".join(alternated_words))\n",
    "\n",
    "print(\"Alternated words have been saved to:\", output_file)\n"
   ]
  },
  {
   "cell_type": "markdown",
   "id": "41f8d502-6a5e-4e7a-96aa-24d52d436496",
   "metadata": {},
   "source": [
    "### ES_gram_LDA_m (29716)"
   ]
  },
  {
   "cell_type": "code",
   "execution_count": 4,
   "id": "a0ede049-0aaf-4d34-b7e4-29fcb0fb712a",
   "metadata": {},
   "outputs": [
    {
     "name": "stdout",
     "output_type": "stream",
     "text": [
      "Alternated words have been saved to: ../data/sets_palabras/ES/gram/ES_gram_LDA_m.txt\n"
     ]
    }
   ],
   "source": [
    "# Input file paths\n",
    "file1 = \"../data/sets_palabras/ES/gram/ES_NOUN_sg_m.txt\"\n",
    "file2 = \"../data/sets_palabras/ES/gram/ES_ADJ_pl_m.txt\"\n",
    "file3 = \"../data/sets_palabras/ES/gram/ES_NOUN_pl_m.txt\"\n",
    "file4 = \"../data/sets_palabras/ES/gram/ES_ADJ_sg_m.txt\"\n",
    "\n",
    "output_file = \"../data/sets_palabras/ES/gram/ES_gram_LDA_m.txt\"\n",
    "\n",
    "\n",
    "with open(file1, \"r\", encoding=\"utf-8\") as f1, \\\n",
    "        open(file2, \"r\", encoding=\"utf-8\") as f2, \\\n",
    "        open(file3, \"r\", encoding=\"utf-8\") as f3, \\\n",
    "        open(file4, \"r\", encoding=\"utf-8\") as f4, \\\n",
    "        open(output_file, \"w\", encoding=\"utf-8\") as outfile:\n",
    "        \n",
    "        words1 = [line.strip() for line in f1 if line.strip()]\n",
    "        words2 = [line.strip() for line in f2 if line.strip()]\n",
    "        words3 = [line.strip() for line in f3 if line.strip()]\n",
    "        words4 = [line.strip() for line in f4 if line.strip()]\n",
    "    \n",
    "        alternated_words = []\n",
    "        for w1, w2, w3, w4 in zip(words1, words2, words3, words4):\n",
    "            w1 = w1.lower()\n",
    "            w2 = w2.lower()\n",
    "            w3 = w3.lower()\n",
    "            w4 = w4.lower()\n",
    "            alternated_words.append(w1)\n",
    "            alternated_words.append(w2)\n",
    "            alternated_words.append(w3)\n",
    "            alternated_words.append(w4)\n",
    "\n",
    "        outfile.write(\"\\n\".join(alternated_words))\n",
    "\n",
    "print(\"Alternated words have been saved to:\", output_file)"
   ]
  },
  {
   "cell_type": "markdown",
   "id": "8996ee55-9156-448d-b84c-85ab80a91194",
   "metadata": {},
   "source": [
    "### ES_GGCTest_m (100)"
   ]
  },
  {
   "cell_type": "code",
   "execution_count": 19,
   "id": "3b425eed-95bf-4bbe-bd13-e37646129d8f",
   "metadata": {},
   "outputs": [
    {
     "name": "stdout",
     "output_type": "stream",
     "text": [
      "Alternated words have been saved to: ../data/sets_palabras/ES/gram/ES_GGCTest_m.txt\n"
     ]
    }
   ],
   "source": [
    "file1 = \"../data/sets_palabras/ES/gram/ES_NOUN_sg_m_test.txt\"\n",
    "file2 = \"../data/sets_palabras/ES/gram/ES_ADJ_pl_m_test.txt\"\n",
    "file3 = \"../data/sets_palabras/ES/gram/ES_NOUN_pl_m_test.txt\"\n",
    "file4 = \"../data/sets_palabras/ES/gram/ES_ADJ_sg_m_test.txt\"\n",
    "\n",
    "output_file = \"../data/sets_palabras/ES/gram/ES_GGCTest_m.txt\"\n",
    "\n",
    "with open(file1, \"r\", encoding=\"utf-8\") as f1, \\\n",
    "        open(file2, \"r\", encoding=\"utf-8\") as f2, \\\n",
    "        open(file3, \"r\", encoding=\"utf-8\") as f3, \\\n",
    "        open(file4, \"r\", encoding=\"utf-8\") as f4, \\\n",
    "        open(output_file, \"w\", encoding=\"utf-8\") as outfile:\n",
    "            \n",
    "        words1 = [line.strip() for line in f1 if line.strip()]\n",
    "        words2 = [line.strip() for line in f2 if line.strip()]\n",
    "        words3 = [line.strip() for line in f3 if line.strip()]\n",
    "        words4 = [line.strip() for line in f4 if line.strip()]\n",
    "    \n",
    "        alternated_words = []\n",
    "        for w1, w2, w3, w4 in zip(words1, words2, words3, words4):\n",
    "            w1 = w1.lower()\n",
    "            w2 = w2.lower()\n",
    "            w3 = w3.lower()\n",
    "            w4 = w4.lower()\n",
    "            if len(alternated_words) < 100:\n",
    "                alternated_words.append(w1)\n",
    "            if len(alternated_words) < 100:\n",
    "                alternated_words.append(w2)\n",
    "            if len(alternated_words) < 100:\n",
    "                alternated_words.append(w3)\n",
    "            if len(alternated_words) < 100:\n",
    "                alternated_words.append(w4)\n",
    "\n",
    "        outfile.write(\"\\n\".join(alternated_words))\n",
    "\n",
    "print(\"Alternated words have been saved to:\", output_file)"
   ]
  },
  {
   "cell_type": "markdown",
   "id": "8b811b24-7e24-409b-98a2-143fbabf0317",
   "metadata": {},
   "source": [
    "### ES_GGCTest_f (500)"
   ]
  },
  {
   "cell_type": "code",
   "execution_count": 21,
   "id": "79aea412-9b8a-4ee5-b0e0-1c6405136e88",
   "metadata": {},
   "outputs": [
    {
     "name": "stdout",
     "output_type": "stream",
     "text": [
      "Alternated words have been saved to: ../data/sets_palabras/ES/gram/ES_GGCTest_f.txt\n"
     ]
    }
   ],
   "source": [
    "file1 = \"../data/sets_palabras/ES/gram/ES_NOUN_sg_f_test.txt\"\n",
    "file2 = \"../data/sets_palabras/ES/gram/ES_ADJ_pl_f_test.txt\"\n",
    "file3 = \"../data/sets_palabras/ES/gram/ES_NOUN_pl_f.txt\"\n",
    "file4 = \"../data/sets_palabras/ES/gram/ES_ADJ_sg_f_test.txt\"\n",
    "\n",
    "output_file = \"../data/sets_palabras/ES/gram/ES_GGCTest_f.txt\"\n",
    "\n",
    "with open(file1, \"r\", encoding=\"utf-8\") as f1, \\\n",
    "        open(file2, \"r\", encoding=\"utf-8\") as f2, \\\n",
    "        open(file3, \"r\", encoding=\"utf-8\") as f3, \\\n",
    "        open(file4, \"r\", encoding=\"utf-8\") as f4, \\\n",
    "        open(output_file, \"w\", encoding=\"utf-8\") as outfile:\n",
    "            \n",
    "        words1 = [line.strip() for line in f1 if line.strip()]\n",
    "        words2 = [line.strip() for line in f2 if line.strip()]\n",
    "        words3 = [line.strip() for line in f3 if line.strip()]\n",
    "        words4 = [line.strip() for line in f4 if line.strip()]\n",
    "    \n",
    "        alternated_words = []\n",
    "        for w1, w2, w3, w4 in zip(words1, words2, words3, words4):\n",
    "            w1 = w1.lower()\n",
    "            w2 = w2.lower()\n",
    "            w3 = w3.lower()\n",
    "            w4 = w4.lower()\n",
    "\n",
    "            # words remaining after reaching 100 will be removed by hand\n",
    "            alternated_words.append(w1)\n",
    "            alternated_words.append(w2)\n",
    "            alternated_words.append(w3)\n",
    "            alternated_words.append(w4)\n",
    "\n",
    "        outfile.write(\"\\n\".join(alternated_words))\n",
    "\n",
    "print(\"Alternated words have been saved to:\", output_file)"
   ]
  },
  {
   "cell_type": "code",
   "execution_count": null,
   "id": "66f79b1d-d49c-42d8-af4b-a9e2dba244e9",
   "metadata": {},
   "outputs": [],
   "source": []
  }
 ],
 "metadata": {
  "kernelspec": {
   "display_name": "Python 3 (ipykernel)",
   "language": "python",
   "name": "python3"
  },
  "language_info": {
   "codemirror_mode": {
    "name": "ipython",
    "version": 3
   },
   "file_extension": ".py",
   "mimetype": "text/x-python",
   "name": "python",
   "nbconvert_exporter": "python",
   "pygments_lexer": "ipython3",
   "version": "3.12.3"
  }
 },
 "nbformat": 4,
 "nbformat_minor": 5
}
