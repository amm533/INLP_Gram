{
 "cells": [
  {
   "cell_type": "markdown",
   "id": "2143adaa-1c67-45a0-964c-73bb375a9847",
   "metadata": {},
   "source": [
    "## Word Embedding Association Test (WEAT)"
   ]
  },
  {
   "cell_type": "code",
   "execution_count": null,
   "id": "dbdb8be1-107f-4787-9899-4f1e691aba26",
   "metadata": {},
   "outputs": [],
   "source": [
    "# Replication of the experiments of the paper: Semantics derived automatically from language corpora contain human-like biases"
   ]
  },
  {
   "cell_type": "code",
   "execution_count": 1,
   "id": "009dca73-bb2c-4038-b79c-88e2b314ba92",
   "metadata": {},
   "outputs": [],
   "source": [
    "import sys\n",
    "sys.path.append(\"../src\")\n",
    "import utils\n",
    "\n",
    "from gensim.models.keyedvectors import KeyedVectors\n",
    "import numpy as np"
   ]
  },
  {
   "cell_type": "code",
   "execution_count": 2,
   "id": "2ec3903e-3a3c-4210-bbbf-2c7b0f1db747",
   "metadata": {},
   "outputs": [],
   "source": [
    "EN_biased_model = KeyedVectors.load_word2vec_format(fname = \"../data/embeddings/vecs.filtered.txt\", binary=False)"
   ]
  },
  {
   "cell_type": "code",
   "execution_count": 3,
   "id": "6964dcbf-f119-4806-bb29-0b88e7a1ea41",
   "metadata": {},
   "outputs": [],
   "source": [
    "ES_biased_model = KeyedVectors.load('../data/embeddings/keyedvectors/model_esp.kv', mmap='r')"
   ]
  },
  {
   "cell_type": "code",
   "execution_count": 4,
   "id": "65ba30c8-7bd8-4433-ac97-aaabf44213db",
   "metadata": {},
   "outputs": [],
   "source": [
    "ES_inlp_debiased_model = KeyedVectors.load('../data/embeddings/keyedvectors/ES_inlp_debiased_model.kv', mmap='r')"
   ]
  },
  {
   "cell_type": "code",
   "execution_count": 5,
   "id": "d0772c40-1e59-4406-acf3-8ef33d1bcafe",
   "metadata": {},
   "outputs": [],
   "source": [
    "inlpES_debiased_model = KeyedVectors.load('../data/embeddings/keyedvectors/inlpES_debiased_model.kv', mmap='r')"
   ]
  },
  {
   "cell_type": "code",
   "execution_count": 2,
   "id": "9f70cf25-8bbd-4bfb-8b9f-53dd17ce74fa",
   "metadata": {},
   "outputs": [],
   "source": [
    "FR_biased_model = KeyedVectors.load('../data/embeddings/keyedvectors/model_fr.kv', mmap='r')"
   ]
  },
  {
   "cell_type": "code",
   "execution_count": 3,
   "id": "213dfc87-9fb0-469d-b59c-7a2ee76f8842",
   "metadata": {},
   "outputs": [],
   "source": [
    "FR_inlp_debiased_model = KeyedVectors.load('../data/embeddings/keyedvectors/FR_inlp_debiased_model.kv', mmap='r')"
   ]
  },
  {
   "cell_type": "code",
   "execution_count": 4,
   "id": "37edad8b-6837-458e-b0c7-f82a3223b06f",
   "metadata": {},
   "outputs": [],
   "source": [
    "FR_inlpGram_debiased_model = KeyedVectors.load('../data/embeddings/keyedvectors/FR_inlpGram_debiased_model.kv', mmap='r')"
   ]
  },
  {
   "cell_type": "markdown",
   "id": "477b6dd1-cef4-4b0b-84a7-de8de2fafb64",
   "metadata": {},
   "source": [
    "#### Experiment career-family"
   ]
  },
  {
   "cell_type": "code",
   "execution_count": 6,
   "id": "f2cb078c-eb59-4cdd-aae1-0a5521cf158c",
   "metadata": {},
   "outputs": [
    {
     "name": "stdout",
     "output_type": "stream",
     "text": [
      "Array after check: ['executive', 'management', 'professional', 'corporation', 'salary', 'office', 'business', 'career']\n",
      "Length of array after check: 8\n",
      "Array after check: ['home', 'parents', 'children', 'family', 'cousins', 'marriage', 'wedding', 'relatives']\n",
      "Length of array after check: 8\n",
      "Array after check: ['john', 'paul', 'mike', 'kevin', 'steve', 'greg', 'jeff', 'bill']\n",
      "Length of array after check: 8\n",
      "Array after check: ['amy', 'joan', 'lisa', 'sarah', 'diana', 'kate', 'ann', 'donna']\n",
      "Length of array after check: 8\n"
     ]
    }
   ],
   "source": [
    "EN_career = [\"executive\" , \"management\" , \"professional\" , \"corporation\" , \"salary\" , \"office\", \"business\" , \"career\"]\n",
    "EN_career = utils.check_vocabulary(EN_biased_model, EN_career)\n",
    "\n",
    "EN_family = [\"home\" , \"parents\" , \"children\" , \"family\" , \"cousins\" , \"marriage\" , \"wedding\" , \"relatives\"]\n",
    "EN_family = utils.check_vocabulary(EN_biased_model, EN_family)\n",
    "\n",
    "EN_names_m = [\"john\" , \"paul\" , \"mike\" , \"kevin\" , \"steve\" , \"greg\" , \"jeff\" , \"bill\"]\n",
    "EN_names_m = utils.check_vocabulary(EN_biased_model, EN_names_m)\n",
    "\n",
    "EN_names_f = [\"amy\" , \"joan\" , \"lisa\" , \"sarah\" , \"diana\" , \"kate\" , \"ann\" , \"donna\"]\n",
    "EN_names_f = utils.check_vocabulary(EN_biased_model, EN_names_f)"
   ]
  },
  {
   "cell_type": "code",
   "execution_count": 7,
   "id": "9f793ad3-8bc3-4ba3-aa2b-0f4b185f8657",
   "metadata": {},
   "outputs": [
    {
     "name": "stdout",
     "output_type": "stream",
     "text": [
      "Array after check: ['ejecutivo', 'gestión', 'profesional', 'corporación', 'salario', 'oficina', 'negocio', 'carrera']\n",
      "Length of array after check: 8\n",
      "Array after check: ['hogar', 'padres', 'niños', 'familia', 'primos', 'boda', 'matrimonio', 'parientes']\n",
      "Length of array after check: 8\n",
      "Array after check: ['juan', 'pablo', 'miguel', 'diego', 'marcos', 'hugo', 'sergio', 'javier']\n",
      "Length of array after check: 8\n",
      "Array after check: ['maría', 'julia', 'valeria', 'sofía', 'lucía', 'paula', 'ana', 'isabel']\n",
      "Length of array after check: 8\n"
     ]
    }
   ],
   "source": [
    "ES_career = [\"ejecutivo\" , \"gestión\" , \"profesional\" , \"corporación\" , \"salario\" , \"oficina\", \"negocio\" , \"carrera\"]\n",
    "ES_career = utils.check_vocabulary(ES_biased_model, ES_career)\n",
    "\n",
    "ES_family = [\"hogar\" , \"padres\" , \"niños\" , \"familia\" , \"primos\" , \"boda\" , \"matrimonio\" , \"parientes\"]\n",
    "ES_family = utils.check_vocabulary(ES_biased_model, ES_family)\n",
    "\n",
    "ES_names_m = [\"juan\" , \"pablo\" , \"miguel\" , \"diego\" , \"marcos\" , \"hugo\" , \"sergio\" , \"javier\"]\n",
    "ES_names_m = utils.check_vocabulary(ES_biased_model, ES_names_m)\n",
    "\n",
    "ES_names_f = [\"maría\" , \"julia\" , \"valeria\" , \"sofía\" , \"lucía\" , \"paula\" , \"ana\" , \"isabel\"]\n",
    "ES_names_f = utils.check_vocabulary(ES_biased_model, ES_names_f)"
   ]
  },
  {
   "cell_type": "code",
   "execution_count": 6,
   "id": "b986ad10-5e88-4e89-952e-e05fb362644e",
   "metadata": {},
   "outputs": [
    {
     "name": "stdout",
     "output_type": "stream",
     "text": [
      "Array after check: ['exécutif', 'gestion', 'professionnel', 'corporation', 'salaire', 'bureau', 'affaires', 'carrière']\n",
      "Length of array after check: 8\n",
      "Array after check: ['foyer', 'parents', 'enfants', 'famille', 'cousins', 'noces', 'mariage', 'bébé']\n",
      "Length of array after check: 8\n",
      "Array after check: ['Jean', 'Paul', 'Michel', 'Didier', 'Marc', 'Hugo', 'Serge', 'Xavier']\n",
      "Length of array after check: 8\n",
      "Array after check: ['Marie', 'Julie', 'Valérie', 'Sophie', 'Lucie', 'Paule', 'Anne', 'Isabelle']\n",
      "Length of array after check: 8\n"
     ]
    }
   ],
   "source": [
    "FR_career = [\"exécutif\", \"gestion\", \"professionnel\", \"corporation\", \"salaire\", \"bureau\", \"affaires\", \"carrière\"]\n",
    "FR_career = utils.check_vocabulary(FR_biased_model, FR_career)\n",
    "\n",
    "FR_family = [\"foyer\", \"parents\", \"enfants\", \"famille\", \"cousins\", \"noces\", \"mariage\", \"bébé\"]\n",
    "FR_family = utils.check_vocabulary(FR_biased_model, FR_family)\n",
    "\n",
    "FR_names_m = [\"Jean\", \"Paul\", \"Michel\", \"Didier\", \"Marc\", \"Hugo\", \"Serge\", \"Xavier\"]\n",
    "FR_names_m = utils.check_vocabulary(FR_biased_model, FR_names_m)\n",
    "\n",
    "FR_names_f = [\"Marie\", \"Julie\", \"Valérie\", \"Sophie\", \"Lucie\", \"Paule\", \"Anne\", \"Isabelle\"]\n",
    "FR_names_f = utils.check_vocabulary(FR_biased_model, FR_names_f)"
   ]
  },
  {
   "cell_type": "markdown",
   "id": "e71756b4-0eba-4c09-96be-d29282acbcf0",
   "metadata": {},
   "source": [
    "#### Experiment science-arts"
   ]
  },
  {
   "cell_type": "code",
   "execution_count": 8,
   "id": "0c99bc93-8d84-4d13-93b6-7c147f7659ef",
   "metadata": {},
   "outputs": [
    {
     "name": "stdout",
     "output_type": "stream",
     "text": [
      "Array after check: ['poetry', 'art', 'sculpture', 'dance', 'literature', 'novel', 'symphony', 'drama']\n",
      "Length of array after check: 8\n",
      " CAUTION: Einstein not in model. Removing...\n",
      " CAUTION: NASA not in model. Removing...\n",
      "Array after check: ['science', 'technology', 'physics', 'chemistry', 'experiment', 'astronomy']\n",
      "Length of array after check: 6\n",
      "Array after check: ['male', 'man', 'boy', 'brother', 'he', 'him', 'his', 'son']\n",
      "Length of array after check: 8\n",
      "Array after check: ['female', 'woman', 'girl', 'sister', 'she', 'her', 'hers', 'daughter']\n",
      "Length of array after check: 8\n"
     ]
    }
   ],
   "source": [
    "# Experiment science-arts\n",
    "EN_arts = [\"poetry\" , \"art\" , \"sculpture\" , \"dance\" , \"literature\" , \"novel\" , \"symphony\" , \"drama\"]\n",
    "EN_arts = utils.check_vocabulary(EN_biased_model, EN_arts)\n",
    "\n",
    "EN_science = [\"science\" , \"technology\" , \"physics\"  , \"chemistry\" , \"Einstein\",\"NASA\" , \"experiment\" , \"astronomy\"]\n",
    "EN_science = utils.check_vocabulary(EN_biased_model, EN_science)\n",
    "\n",
    "EN_m_terms = [\"male\", \"man\", \"boy\", \"brother\", \"he\", \"him\", \"his\", \"son\"]\n",
    "EN_m_terms = utils.check_vocabulary(EN_biased_model, EN_m_terms)\n",
    "\n",
    "EN_f_terms =[\"female\", \"woman\", \"girl\", \"sister\", \"she\", \"her\", \"hers\", \"daughter\"]\n",
    "EN_f_terms = utils.check_vocabulary(EN_biased_model, EN_f_terms)"
   ]
  },
  {
   "cell_type": "code",
   "execution_count": 9,
   "id": "b6a29451-2b9d-4a2f-9a57-62574eb2ee8f",
   "metadata": {},
   "outputs": [
    {
     "name": "stdout",
     "output_type": "stream",
     "text": [
      "Array after check: ['science', 'technology', 'physics', 'chemistry', 'hypothesis', 'atom', 'experiment', 'astronomy']\n",
      "Length of array after check: 8\n"
     ]
    }
   ],
   "source": [
    "EN_science = [\"science\" , \"technology\" , \"physics\"  , \"chemistry\" , \"hypothesis\" , \"atom\" , \"experiment\" , \"astronomy\"]\n",
    "EN_science = utils.check_vocabulary(EN_biased_model, EN_science)"
   ]
  },
  {
   "cell_type": "code",
   "execution_count": 10,
   "id": "5aad0dbd-856c-484d-a9e4-077f24121722",
   "metadata": {},
   "outputs": [
    {
     "name": "stdout",
     "output_type": "stream",
     "text": [
      "Array after check: ['poesía', 'arte', 'escultura', 'danza', 'literatura', 'novela', 'sinfonía', 'drama']\n",
      "Length of array after check: 8\n",
      " CAUTION: Einstein not in model. Removing...\n",
      " CAUTION: NASA not in model. Removing...\n",
      "Array after check: ['ciencia', 'tecnología', 'física', 'química', 'experimento', 'astronomía']\n",
      "Length of array after check: 6\n",
      "Array after check: ['hombre', 'niño', 'padre', 'masculino', 'abuelo', 'esposo', 'hijo', 'tío']\n",
      "Length of array after check: 8\n",
      "Array after check: ['niña', 'femenina', 'tía', 'hija', 'esposa', 'mujer', 'madre', 'abuela']\n",
      "Length of array after check: 8\n"
     ]
    }
   ],
   "source": [
    "ES_arts = [\"poesía\", \"arte\", \"escultura\", \"danza\", \"literatura\", \"novela\", \"sinfonía\", \"drama\"]\n",
    "ES_arts  = utils.check_vocabulary(ES_biased_model, ES_arts )\n",
    "\n",
    "ES_science = [\"ciencia\", \"tecnología\", \"física\", \"química\", \"Einstein\", \"NASA\", \"experimento\", \"astronomía\"]\n",
    "ES_science = utils.check_vocabulary(ES_biased_model, ES_science)\n",
    "\n",
    "ES_m_terms = [\"hombre\", \"niño\", \"padre\", \"masculino\", \"abuelo\", \"esposo\", \"hijo\", \"tío\"]\n",
    "ES_m_terms = utils.check_vocabulary(ES_biased_model, ES_m_terms)\n",
    "\n",
    "ES_f_terms =[\"niña\", \"femenina\", \"tía\", \"hija\", \"esposa\", \"mujer\", \"madre\", \"abuela\"]\n",
    "ES_f_terms = utils.check_vocabulary(ES_biased_model, ES_f_terms)"
   ]
  },
  {
   "cell_type": "code",
   "execution_count": 11,
   "id": "0d2a3f1c-8f5e-4fc2-9b8f-eb00a1eb8af8",
   "metadata": {},
   "outputs": [
    {
     "name": "stdout",
     "output_type": "stream",
     "text": [
      "Array after check: ['ciencia', 'tecnología', 'física', 'química', 'hipótesis', 'átomo', 'experimento', 'astronomía']\n",
      "Length of array after check: 8\n"
     ]
    }
   ],
   "source": [
    "ES_science = [\"ciencia\", \"tecnología\", \"física\", \"química\", \"hipótesis\", \"átomo\", \"experimento\", \"astronomía\"]\n",
    "ES_science = utils.check_vocabulary(ES_biased_model, ES_science)"
   ]
  },
  {
   "cell_type": "code",
   "execution_count": 15,
   "id": "7a8c8a49-0e90-4ddc-971e-92710df8bf55",
   "metadata": {},
   "outputs": [
    {
     "name": "stdout",
     "output_type": "stream",
     "text": [
      "Array after check: ['poésie', 'art', 'sculpture', 'danse', 'littérature', 'roman', 'symphonie', 'drame']\n",
      "Length of array after check: 8\n",
      "Array after check: ['science', 'technologie', 'physique', 'chimie', 'hypothèse', 'atome', 'expérience', 'astronomie']\n",
      "Length of array after check: 8\n",
      "Array after check: ['homme', 'garçon', 'père', 'masculin', 'grand-père', 'mari', 'fils', 'oncle']\n",
      "Length of array after check: 8\n",
      "Array after check: ['fille', 'féminine', 'tante', 'petite-fille', 'épouse', 'femme', 'mère', 'grand-mère']\n",
      "Length of array after check: 8\n"
     ]
    }
   ],
   "source": [
    "FR_arts = [\"poésie\", \"art\", \"sculpture\", \"danse\", \"littérature\", \"roman\", \"symphonie\", \"drame\"]\n",
    "FR_arts = utils.check_vocabulary(FR_biased_model, FR_arts)\n",
    "\n",
    "FR_science = [\"science\", \"technologie\", \"physique\", \"chimie\", \"hypothèse\", \"atome\", \"expérience\", \"astronomie\"]\n",
    "FR_science = utils.check_vocabulary(FR_biased_model, FR_science)\n",
    "\n",
    "FR_m_terms = [\"homme\", \"garçon\", \"père\", \"masculin\", \"grand-père\", \"mari\", \"fils\", \"oncle\"]\n",
    "FR_m_terms = utils.check_vocabulary(FR_biased_model, FR_m_terms)\n",
    "\n",
    "FR_f_terms = [\"fille\", \"féminine\", \"tante\", \"petite-fille\", \"épouse\", \"femme\", \"mère\", \"grand-mère\"]\n",
    "FR_f_terms = utils.check_vocabulary(FR_biased_model, FR_f_terms)\n"
   ]
  },
  {
   "cell_type": "markdown",
   "id": "227decd9-7f5f-4de9-9b1a-d6a533539cac",
   "metadata": {},
   "source": [
    "#### Experiment math-arts"
   ]
  },
  {
   "cell_type": "code",
   "execution_count": 12,
   "id": "963e50be-6846-47c0-82a5-f11fd2a47cef",
   "metadata": {},
   "outputs": [
    {
     "name": "stdout",
     "output_type": "stream",
     "text": [
      "Array after check: ['poetry', 'art', 'sculpture', 'dance', 'literature', 'novel', 'symphony', 'drama']\n",
      "Length of array after check: 8\n",
      "Array after check: ['poetry', 'art', 'sculpture', 'dance', 'literature', 'novel', 'symphony', 'drama']\n",
      "Length of array after check: 8\n",
      "Array after check: ['male', 'man', 'boy', 'brother', 'he', 'him', 'his', 'son']\n",
      "Length of array after check: 8\n",
      "Array after check: ['female', 'woman', 'girl', 'sister', 'she', 'her', 'hers', 'daughter']\n",
      "Length of array after check: 8\n"
     ]
    }
   ],
   "source": [
    "# Experiment math-arts\n",
    "EN_arts = [\"poetry\" , \"art\" , \"sculpture\" , \"dance\" , \"literature\" , \"novel\" , \"symphony\" , \"drama\"]\n",
    "EN_arts = utils.check_vocabulary(EN_biased_model, EN_arts)\n",
    "\n",
    "EN_math = [\"math\" , \"algebra\" , \"geometry\" , \"calculus\" , \"equations\" , \"computation\" , \"numbers\" , \"addition\"]\n",
    "EN_math = utils.check_vocabulary(EN_biased_model, EN_arts)\n",
    "\n",
    "EN_m_terms = [\"male\", \"man\", \"boy\", \"brother\", \"he\", \"him\", \"his\", \"son\"]\n",
    "EN_m_terms = utils.check_vocabulary(EN_biased_model, EN_m_terms)\n",
    "\n",
    "EN_f_terms =[\"female\", \"woman\", \"girl\", \"sister\", \"she\", \"her\", \"hers\", \"daughter\"]\n",
    "EN_f_terms = utils.check_vocabulary(EN_biased_model, EN_f_terms)"
   ]
  },
  {
   "cell_type": "code",
   "execution_count": 13,
   "id": "7826e94d-7d40-4f72-aa8a-08503870eb7d",
   "metadata": {},
   "outputs": [
    {
     "name": "stdout",
     "output_type": "stream",
     "text": [
      "Array after check: ['poesía', 'arte', 'escultura', 'danza', 'literatura', 'novela', 'sinfonía', 'drama']\n",
      "Length of array after check: 8\n",
      "Array after check: ['matemáticas', 'álgebra', 'geometría', 'cálculo', 'ecuaciones', 'computación', 'números', 'suma']\n",
      "Length of array after check: 8\n",
      "Array after check: ['hombre', 'niño', 'padre', 'masculino', 'abuelo', 'esposo', 'hijo', 'tío']\n",
      "Length of array after check: 8\n",
      "Array after check: ['niña', 'femenina', 'tía', 'hija', 'esposa', 'mujer', 'madre', 'abuela']\n",
      "Length of array after check: 8\n"
     ]
    }
   ],
   "source": [
    "ES_arts = [\"poesía\", \"arte\", \"escultura\", \"danza\", \"literatura\", \"novela\", \"sinfonía\", \"drama\"]\n",
    "ES_arts  = utils.check_vocabulary(ES_biased_model, ES_arts )\n",
    "\n",
    "ES_math = [\"matemáticas\", \"álgebra\", \"geometría\", \"cálculo\", \"ecuaciones\", \"computación\", \"números\", \"suma\"]\n",
    "ES_math  = utils.check_vocabulary(ES_biased_model, ES_math)\n",
    "\n",
    "ES_m_terms = [\"hombre\", \"niño\", \"padre\", \"masculino\", \"abuelo\", \"esposo\", \"hijo\", \"tío\"]\n",
    "ES_m_terms = utils.check_vocabulary(ES_biased_model, ES_m_terms)\n",
    "\n",
    "ES_f_terms =[\"niña\", \"femenina\", \"tía\", \"hija\", \"esposa\", \"mujer\", \"madre\", \"abuela\"]\n",
    "ES_f_terms = utils.check_vocabulary(ES_biased_model, ES_f_terms)"
   ]
  },
  {
   "cell_type": "code",
   "execution_count": 16,
   "id": "d9a412a2-a1eb-4ed0-94e5-237d98da8590",
   "metadata": {},
   "outputs": [
    {
     "name": "stdout",
     "output_type": "stream",
     "text": [
      "Array after check: ['poésie', 'art', 'sculpture', 'danse', 'littérature', 'roman', 'symphonie', 'drame']\n",
      "Length of array after check: 8\n",
      "Array after check: ['mathématiques', 'algèbre', 'géométrie', 'calcul', 'équations', 'informatique', 'nombres', 'addition']\n",
      "Length of array after check: 8\n",
      "Array after check: ['homme', 'garçon', 'père', 'masculin', 'grand-père', 'mari', 'fils', 'oncle']\n",
      "Length of array after check: 8\n",
      "Array after check: ['fille', 'féminine', 'tante', 'petite-fille', 'épouse', 'femme', 'mère', 'grand-mère']\n",
      "Length of array after check: 8\n"
     ]
    }
   ],
   "source": [
    "FR_arts = [\"poésie\", \"art\", \"sculpture\", \"danse\", \"littérature\", \"roman\", \"symphonie\", \"drame\"]\n",
    "FR_arts = utils.check_vocabulary(FR_biased_model, FR_arts)\n",
    "\n",
    "FR_math = [\"mathématiques\", \"algèbre\", \"géométrie\", \"calcul\", \"équations\", \"informatique\", \"numéro\", \"addition\"]\n",
    "FR_math = utils.check_vocabulary(FR_biased_model, FR_math)\n",
    "\n",
    "FR_m_terms = [\"homme\", \"garçon\", \"père\", \"masculin\", \"grand-père\", \"mari\", \"fils\", \"oncle\"]\n",
    "FR_m_terms = utils.check_vocabulary(FR_biased_model, FR_m_terms)\n",
    "\n",
    "FR_f_terms = [\"fille\", \"féminine\", \"tante\", \"petite-fille\", \"épouse\", \"femme\", \"mère\", \"grand-mère\"]\n",
    "FR_f_terms = utils.check_vocabulary(FR_biased_model, FR_f_terms)\n"
   ]
  },
  {
   "cell_type": "markdown",
   "id": "f3b79ff0-c83f-45af-b7f4-d40dd982cf1f",
   "metadata": {},
   "source": [
    "#### Conversion to Python of original WEAT source code"
   ]
  },
  {
   "cell_type": "code",
   "execution_count": 7,
   "id": "b5589b4b-3643-455d-b13f-3595a34faeab",
   "metadata": {},
   "outputs": [],
   "source": [
    "def cos_sim(a, b):\n",
    "    dot_prod = a.dot(b)\n",
    "    cos_sim = dot_prod / (np.linalg.norm(a) * np.linalg.norm(b))\n",
    "    #print(f'dot: {cos_sim}')\n",
    "    return cos_sim"
   ]
  },
  {
   "cell_type": "code",
   "execution_count": 8,
   "id": "a40bc512-7daa-47dc-b6fc-23406920943e",
   "metadata": {},
   "outputs": [],
   "source": [
    "def getTestStatistic(model, X, Y, A, B):\n",
    "    differenceOfMeans = 0.0\n",
    "    differenceOfMeans_X = 0.0\n",
    "    differenceOfMeans_Y = 0.0\n",
    "\n",
    "    # X to A and B\n",
    "    for x in X:\n",
    "        mean_X_A = 0.0\n",
    "        for a in A:\n",
    "            mean_X_A = mean_X_A + cos_sim(model[x], model[a])\n",
    "        \n",
    "        mean_X_A = mean_X_A / len(A)\n",
    "\n",
    "        mean_X_B = 0.0\n",
    "        for b in B:\n",
    "            mean_X_B = mean_X_B + cos_sim(model[x], model[b])\n",
    "        \n",
    "        mean_X_B = mean_X_B / len(B)\n",
    "\n",
    "        differenceOfMeans_X = differenceOfMeans_X + mean_X_A - mean_X_B\n",
    "\n",
    "    differenceOfMeans_X = differenceOfMeans_X / len(X)\n",
    "\n",
    "    # Y to A and B\n",
    "    for y in Y:\n",
    "        mean_Y_A = 0.0\n",
    "        for a in A:\n",
    "            mean_Y_A = mean_Y_A + cos_sim(model[y], model[a])\n",
    "        \n",
    "        mean_Y_A = mean_Y_A / len(A)\n",
    "\n",
    "        mean_Y_B = 0.0\n",
    "        for b in B:\n",
    "            mean_Y_B = mean_Y_B + cos_sim(model[y], model[b])\n",
    "        \n",
    "        mean_Y_B = mean_Y_B / len(B)\n",
    "\n",
    "        differenceOfMeans_Y = differenceOfMeans_Y + mean_Y_A - mean_Y_B\n",
    "\n",
    "    differenceOfMeans_Y = differenceOfMeans_Y / len(Y)\n",
    "\n",
    "    differenceOfMeans = abs(differenceOfMeans_X - differenceOfMeans_Y)\n",
    "    print(f\"The test statistic is: {differenceOfMeans}\")\n",
    "\n",
    "    return differenceOfMeans"
   ]
  },
  {
   "cell_type": "code",
   "execution_count": 28,
   "id": "84777bd7-0c2f-4555-a7c2-24b778ea64ef",
   "metadata": {},
   "outputs": [
    {
     "name": "stdout",
     "output_type": "stream",
     "text": [
      "The test statistic is: 0.09226673014927655\n"
     ]
    },
    {
     "data": {
      "text/plain": [
       "0.09226673014927655"
      ]
     },
     "execution_count": 28,
     "metadata": {},
     "output_type": "execute_result"
    }
   ],
   "source": [
    "getTestStatistic(EN_biased_model, EN_career, EN_family, EN_names_m, EN_names_f)"
   ]
  },
  {
   "cell_type": "code",
   "execution_count": 24,
   "id": "7bd39c41-4bc5-42f4-84d8-48dea805ee7a",
   "metadata": {},
   "outputs": [
    {
     "name": "stdout",
     "output_type": "stream",
     "text": [
      "The test statistic is: 0.03044789785053581\n"
     ]
    },
    {
     "data": {
      "text/plain": [
       "0.03044789785053581"
      ]
     },
     "execution_count": 24,
     "metadata": {},
     "output_type": "execute_result"
    }
   ],
   "source": [
    "getTestStatistic(EN_biased_model, EN_science, EN_arts, EN_m_terms, EN_f_terms)"
   ]
  },
  {
   "cell_type": "code",
   "execution_count": 25,
   "id": "fe4d8d91-0940-4c16-8260-b42bb910bd2c",
   "metadata": {},
   "outputs": [
    {
     "name": "stdout",
     "output_type": "stream",
     "text": [
      "The test statistic is: 0.0\n"
     ]
    },
    {
     "data": {
      "text/plain": [
       "0.0"
      ]
     },
     "execution_count": 25,
     "metadata": {},
     "output_type": "execute_result"
    }
   ],
   "source": [
    "getTestStatistic(EN_biased_model, EN_math, EN_arts, EN_m_terms, EN_f_terms)"
   ]
  },
  {
   "cell_type": "code",
   "execution_count": 9,
   "id": "ec68284e-89f2-438a-91b0-d03d4003c18a",
   "metadata": {},
   "outputs": [],
   "source": [
    "from random import shuffle\n",
    "\n",
    "def nullDistribution(model, X, Y, A, B):\n",
    "\n",
    "    XY = X + Y\n",
    "    print(\"Generating null distribution...\")\n",
    "\n",
    "    A_null_matrix = np.zeros((len(A), len(XY)))\n",
    "    B_null_matrix = np.zeros((len(B), len(XY)))\n",
    "\n",
    "    for i, a in enumerate(A):\n",
    "        for j, xy in enumerate(XY):\n",
    "            A_null_matrix[i, j] = cos_sim(model[xy], model[a])\n",
    "\n",
    "    for i, b in enumerate(B):\n",
    "        for j, xy in enumerate(XY):\n",
    "            B_null_matrix[i, j] = cos_sim(model[xy], model[b])\n",
    "\n",
    "    # Assume both concepts have the same size\n",
    "    set_size = len(XY) // 2\n",
    "    print(f\"Number of permutations: 100 000\")\n",
    "    distribution = np.zeros(100000)\n",
    "\n",
    "    # Indices for shuffling\n",
    "    to_shuffle = list(range(len(XY)))\n",
    "\n",
    "    for iteration in range(100000):\n",
    "        shuffle(to_shuffle)\n",
    "\n",
    "        # Calculate means for shuffled data\n",
    "        mean_similarity_X_A = 0\n",
    "        mean_similarity_X_B = 0\n",
    "        mean_similarity_Y_A = 0\n",
    "        mean_similarity_Y_B = 0\n",
    "\n",
    "        for i in range(len(A)):\n",
    "            for j in range(set_size):\n",
    "                mean_similarity_X_A += A_null_matrix[i, to_shuffle[j]]\n",
    "            for j in range(set_size):\n",
    "                mean_similarity_Y_A += A_null_matrix[i, to_shuffle[j + set_size]]\n",
    "\n",
    "        for i in range(len(B)):\n",
    "            for j in range(set_size):\n",
    "                mean_similarity_X_B += B_null_matrix[i, to_shuffle[j]]\n",
    "            for j in range(set_size):\n",
    "                mean_similarity_Y_B += B_null_matrix[i, to_shuffle[j + set_size]]\n",
    "\n",
    "        # Normalize the means\n",
    "        mean_similarity_X_A /= (len(A) * set_size)\n",
    "        mean_similarity_X_B /= (len(B) * set_size)\n",
    "        mean_similarity_Y_A /= (len(A) * set_size)\n",
    "        mean_similarity_Y_B /= (len(B) * set_size)\n",
    "\n",
    "        # Compute the difference for this iteration\n",
    "        distribution[iteration] = (mean_similarity_X_A - mean_similarity_X_B) - (mean_similarity_Y_A - mean_similarity_Y_B)\n",
    "\n",
    "    return distribution\n"
   ]
  },
  {
   "cell_type": "code",
   "execution_count": 28,
   "id": "8a195761-2518-4a9d-9d0b-b2676ce76dc3",
   "metadata": {},
   "outputs": [
    {
     "name": "stdout",
     "output_type": "stream",
     "text": [
      "Generating null distribution...\n",
      "Number of permutations: 100 000\n"
     ]
    },
    {
     "data": {
      "text/plain": [
       "array([ 0.01784355,  0.00950639, -0.01600179, ...,  0.01400662,\n",
       "        0.03358241,  0.01855119])"
      ]
     },
     "execution_count": 28,
     "metadata": {},
     "output_type": "execute_result"
    }
   ],
   "source": [
    "nullDistribution(EN_biased_model, EN_career, EN_family, EN_names_m, EN_names_f)"
   ]
  },
  {
   "cell_type": "code",
   "execution_count": 10,
   "id": "719e550a-b1b4-473c-8ed7-4c5933064e63",
   "metadata": {},
   "outputs": [],
   "source": [
    "def getEntireDistribution(model, X, Y, A, B):\n",
    "\n",
    "    XY = X + Y\n",
    "    distribution = []\n",
    "    print(\"Getting the entire distribution...\");\n",
    "\n",
    "    for xy in XY:\n",
    "        similarityToA = 0.0 \t\n",
    "        similarityToB = 0.0 \t\t\t\n",
    "\n",
    "        for a in A:\t\n",
    "            similarityToA = similarityToA + cos_sim(model[xy], model[a])\n",
    "\t\t\t\t\t\n",
    "        similarityToA = similarityToA /len(A)\n",
    "\t\t\n",
    "        for b in B:\t\n",
    "            similarityToB = similarityToB + cos_sim(model[xy], model[b])\n",
    "\t\t\t\t\t\n",
    "        similarityToB = similarityToB /len(B)\n",
    "            \n",
    "        distribution.append(similarityToA - similarityToB)\t\t\t\t\n",
    "\t\n",
    "    return distribution"
   ]
  },
  {
   "cell_type": "code",
   "execution_count": 11,
   "id": "b2d98029-e4ba-4e8f-9901-46aaaa2481db",
   "metadata": {},
   "outputs": [],
   "source": [
    "import statsmodels\n",
    "from statsmodels.distributions.empirical_distribution import ECDF\n",
    "\n",
    "def calculateCumulativeProbability(sample, value):\n",
    "\t\n",
    "    cumulative = -100\n",
    "    sample.sort()\n",
    "    ecdf = ECDF(sample)\n",
    "    cumulative = ecdf(value)\n",
    "    print(f'P(x<{value}): %.3f' % cumulative)\n",
    "\t\n",
    "    return cumulative"
   ]
  },
  {
   "cell_type": "code",
   "execution_count": 12,
   "id": "fc5aea97-faec-4274-9a73-70fdbe7d6d83",
   "metadata": {},
   "outputs": [],
   "source": [
    "def effectSize(arr, mean):\n",
    "\t\n",
    "\teffect = mean/np.std(arr)\t\t\n",
    "\treturn effect\t\n"
   ]
  },
  {
   "cell_type": "code",
   "execution_count": 13,
   "id": "d6fafbfa-5629-4a73-a82b-cac5b05c5a02",
   "metadata": {},
   "outputs": [],
   "source": [
    "def getPValueAndEffect(model, X, Y, A, B):\n",
    "\t\t\n",
    "    test_statistic = getTestStatistic(model, X, Y, A, B) \n",
    "    null_distribution = nullDistribution(model, X, Y, A, B)\n",
    "    entire_distribution = getEntireDistribution(model, X, Y, A, B)\n",
    "\t\t\n",
    "    p_value = 1 - calculateCumulativeProbability(null_distribution, test_statistic)\n",
    "    effect_size = effectSize(entire_distribution, test_statistic)\n",
    "    print(f\" p-value: {p_value}  ---  effect size: {effect_size}\")\n",
    "    \n",
    "    return [p_value, effect_size]\t"
   ]
  },
  {
   "cell_type": "markdown",
   "id": "8c345b84-9a9c-445d-af7c-b47180b768db",
   "metadata": {},
   "source": [
    "### Test execution"
   ]
  },
  {
   "cell_type": "markdown",
   "id": "1255c2cb-133d-4539-a322-1fae0b203aee",
   "metadata": {},
   "source": [
    "#### English - original embeddings"
   ]
  },
  {
   "cell_type": "code",
   "execution_count": 28,
   "id": "2b70bf28-0add-47b3-a28b-39faad13969c",
   "metadata": {},
   "outputs": [
    {
     "name": "stdout",
     "output_type": "stream",
     "text": [
      "The test statistic is: 0.09226673014927655\n",
      "Generating null distribution...\n",
      "Number of permutations: 100 000\n",
      "Getting the entire distribution...\n",
      "P(x<0.09226673014927655): 1.000\n",
      " p-value: 0.0  ---  effect size: 1.694485932546462\n"
     ]
    },
    {
     "data": {
      "text/plain": [
       "[0.0, 1.694485932546462]"
      ]
     },
     "execution_count": 28,
     "metadata": {},
     "output_type": "execute_result"
    }
   ],
   "source": [
    "getPValueAndEffect(EN_biased_model, EN_names_m, EN_names_f, EN_career, EN_family)"
   ]
  },
  {
   "cell_type": "code",
   "execution_count": 29,
   "id": "a9db3844-2e6d-4a43-9c94-a19aec1a9006",
   "metadata": {},
   "outputs": [
    {
     "name": "stdout",
     "output_type": "stream",
     "text": [
      "The test statistic is: 0.03044789785053581\n",
      "Generating null distribution...\n",
      "Number of permutations: 100 000\n",
      "Getting the entire distribution...\n",
      "P(x<0.03044789785053581): 0.998\n",
      " p-value: 0.0018099999999999783  ---  effect size: 1.3816645993714345\n"
     ]
    },
    {
     "data": {
      "text/plain": [
       "[0.0018099999999999783, 1.3816645993714345]"
      ]
     },
     "execution_count": 29,
     "metadata": {},
     "output_type": "execute_result"
    }
   ],
   "source": [
    "getPValueAndEffect(EN_biased_model, EN_science, EN_arts, EN_m_terms, EN_f_terms)"
   ]
  },
  {
   "cell_type": "code",
   "execution_count": 30,
   "id": "2630ab63-352d-4c45-8549-211a0bfea0fb",
   "metadata": {},
   "outputs": [
    {
     "name": "stdout",
     "output_type": "stream",
     "text": [
      "The test statistic is: 0.0\n",
      "Generating null distribution...\n",
      "Number of permutations: 100 000\n",
      "Getting the entire distribution...\n",
      "P(x<0.0): 0.512\n",
      " p-value: 0.48777000000000004  ---  effect size: 0.0\n"
     ]
    },
    {
     "data": {
      "text/plain": [
       "[0.48777000000000004, 0.0]"
      ]
     },
     "execution_count": 30,
     "metadata": {},
     "output_type": "execute_result"
    }
   ],
   "source": [
    "getPValueAndEffect(EN_biased_model, EN_math, EN_arts, EN_m_terms, EN_f_terms)"
   ]
  },
  {
   "cell_type": "code",
   "execution_count": 23,
   "id": "352b3954-4f44-478a-8069-d1ed5cea900c",
   "metadata": {},
   "outputs": [
    {
     "name": "stdout",
     "output_type": "stream",
     "text": [
      "The test statistic is: 0.04103969095740467\n",
      "Generating null distribution...\n",
      "Number of permutations: 100 000\n",
      "Getting the entire distribution...\n",
      "P(x<0.04103969095740467): 1.000\n",
      " p-value: 0.00034999999999996145  ---  effect size: 1.4894920180088345\n"
     ]
    },
    {
     "data": {
      "text/plain": [
       "[0.00034999999999996145, 1.4894920180088345]"
      ]
     },
     "execution_count": 23,
     "metadata": {},
     "output_type": "execute_result"
    }
   ],
   "source": [
    "getPValueAndEffect(EN_biased_model, EN_career, EN_family, EN_m_terms, EN_f_terms)"
   ]
  },
  {
   "cell_type": "markdown",
   "id": "4747fc07-e2d3-40bc-8142-363450b0222f",
   "metadata": {},
   "source": [
    "#### Spanish - original embeddings"
   ]
  },
  {
   "cell_type": "code",
   "execution_count": 24,
   "id": "134b6f6e-ca93-4362-a95a-e041b735a60b",
   "metadata": {},
   "outputs": [
    {
     "name": "stdout",
     "output_type": "stream",
     "text": [
      "The test statistic is: 0.10897565301274881\n",
      "Generating null distribution...\n",
      "Number of permutations: 100 000\n",
      "Getting the entire distribution...\n",
      "P(x<0.10897565301274881): 1.000\n",
      " p-value: 0.0  ---  effect size: 1.7477671171986469\n"
     ]
    },
    {
     "data": {
      "text/plain": [
       "[0.0, 1.7477671171986469]"
      ]
     },
     "execution_count": 24,
     "metadata": {},
     "output_type": "execute_result"
    }
   ],
   "source": [
    "getPValueAndEffect(ES_biased_model, ES_names_m, ES_names_f, ES_career, ES_family)"
   ]
  },
  {
   "cell_type": "code",
   "execution_count": 37,
   "id": "b4697782-dfca-4c49-b006-f5c1789e36a4",
   "metadata": {},
   "outputs": [
    {
     "name": "stdout",
     "output_type": "stream",
     "text": [
      "The test statistic is: 0.04185459218570031\n",
      "Generating null distribution...\n",
      "Number of permutations: 100 000\n",
      "Getting the entire distribution...\n",
      "P(x<0.04185459218570031): 0.991\n",
      " p-value: 0.009440000000000004  ---  effect size: 1.159601401418485\n"
     ]
    },
    {
     "data": {
      "text/plain": [
       "[0.009440000000000004, 1.159601401418485]"
      ]
     },
     "execution_count": 37,
     "metadata": {},
     "output_type": "execute_result"
    }
   ],
   "source": [
    "getPValueAndEffect(ES_biased_model, ES_science, ES_arts, ES_m_terms, ES_f_terms)"
   ]
  },
  {
   "cell_type": "code",
   "execution_count": 38,
   "id": "3073294c-d66e-4edf-97bc-26ba523d756e",
   "metadata": {},
   "outputs": [
    {
     "name": "stdout",
     "output_type": "stream",
     "text": [
      "The test statistic is: 0.031484392515267245\n",
      "Generating null distribution...\n",
      "Number of permutations: 100 000\n",
      "Getting the entire distribution...\n",
      "P(x<0.031484392515267245): 0.980\n",
      " p-value: 0.01961999999999997  ---  effect size: 1.05648632674436\n"
     ]
    },
    {
     "data": {
      "text/plain": [
       "[0.01961999999999997, 1.05648632674436]"
      ]
     },
     "execution_count": 38,
     "metadata": {},
     "output_type": "execute_result"
    }
   ],
   "source": [
    "getPValueAndEffect(ES_biased_model, ES_math, ES_arts, ES_m_terms, ES_f_terms)"
   ]
  },
  {
   "cell_type": "markdown",
   "id": "94a6bcd3-828c-4c28-8c00-a8777d5f3616",
   "metadata": {},
   "source": [
    "#### French - Original embeddings"
   ]
  },
  {
   "cell_type": "code",
   "execution_count": 14,
   "id": "6fc5a604-73d3-48af-8601-be93539c20aa",
   "metadata": {},
   "outputs": [
    {
     "name": "stdout",
     "output_type": "stream",
     "text": [
      "The test statistic is: 0.07921149202047673\n",
      "Generating null distribution...\n",
      "Number of permutations: 100 000\n",
      "Getting the entire distribution...\n",
      "P(x<0.07921149202047673): 1.000\n",
      " p-value: 8.999999999992347e-05  ---  effect size: 1.6906785082974334\n"
     ]
    },
    {
     "data": {
      "text/plain": [
       "[8.999999999992347e-05, 1.6906785082974334]"
      ]
     },
     "execution_count": 14,
     "metadata": {},
     "output_type": "execute_result"
    }
   ],
   "source": [
    "getPValueAndEffect(FR_biased_model, FR_names_m, FR_names_f, FR_career, FR_family)"
   ]
  },
  {
   "cell_type": "code",
   "execution_count": 17,
   "id": "d8f43b90-de6c-4973-818e-ddf843fd3809",
   "metadata": {},
   "outputs": [
    {
     "name": "stdout",
     "output_type": "stream",
     "text": [
      "The test statistic is: 0.0012949423980899155\n",
      "Generating null distribution...\n",
      "Number of permutations: 100 000\n",
      "Getting the entire distribution...\n",
      "P(x<0.0012949423980899155): 0.515\n",
      " p-value: 0.48534  ---  effect size: 0.017981123492586425\n"
     ]
    },
    {
     "data": {
      "text/plain": [
       "[0.48534, 0.017981123492586425]"
      ]
     },
     "execution_count": 17,
     "metadata": {},
     "output_type": "execute_result"
    }
   ],
   "source": [
    "getPValueAndEffect(FR_biased_model, FR_science, FR_arts, FR_m_terms, FR_f_terms)"
   ]
  },
  {
   "cell_type": "code",
   "execution_count": 18,
   "id": "4e4603b7-6b13-46e6-9f09-ed4bcc649432",
   "metadata": {},
   "outputs": [
    {
     "name": "stdout",
     "output_type": "stream",
     "text": [
      "The test statistic is: 0.03854814161604736\n",
      "Generating null distribution...\n",
      "Number of permutations: 100 000\n",
      "Getting the entire distribution...\n",
      "P(x<0.03854814161604736): 0.845\n",
      " p-value: 0.15486  ---  effect size: 0.5325543586360312\n"
     ]
    },
    {
     "data": {
      "text/plain": [
       "[0.15486, 0.5325543586360312]"
      ]
     },
     "execution_count": 18,
     "metadata": {},
     "output_type": "execute_result"
    }
   ],
   "source": [
    "getPValueAndEffect(FR_biased_model, FR_math, FR_arts, FR_m_terms, FR_f_terms)"
   ]
  },
  {
   "cell_type": "markdown",
   "id": "9ce7d90a-33ef-4f7c-83fc-611391ba59d5",
   "metadata": {},
   "source": [
    "#### Spanish- INLP"
   ]
  },
  {
   "cell_type": "code",
   "execution_count": 32,
   "id": "4aba9e9d-3a0a-4948-b0d7-08986bab2a12",
   "metadata": {},
   "outputs": [
    {
     "name": "stdout",
     "output_type": "stream",
     "text": [
      "The test statistic is: 0.008335834066230063\n",
      "Generating null distribution...\n",
      "Number of permutations: 100 000\n",
      "Getting the entire distribution...\n",
      "P(x<0.008335834066230063): 0.708\n",
      " p-value: 0.29196999999999995  ---  effect size: 0.2938785501825947\n"
     ]
    },
    {
     "data": {
      "text/plain": [
       "[0.29196999999999995, 0.2938785501825947]"
      ]
     },
     "execution_count": 32,
     "metadata": {},
     "output_type": "execute_result"
    }
   ],
   "source": [
    "getPValueAndEffect(ES_inlp_debiased_model, ES_career, ES_family, ES_m_terms, ES_f_terms)"
   ]
  },
  {
   "cell_type": "code",
   "execution_count": 15,
   "id": "81269a9a-c764-46c4-83f5-028836e30abf",
   "metadata": {},
   "outputs": [
    {
     "name": "stdout",
     "output_type": "stream",
     "text": [
      "The test statistic is: 0.049779264808648804\n",
      "Generating null distribution...\n",
      "Number of permutations: 100 000\n",
      "Getting the entire distribution...\n",
      "P(x<0.049779264808648804): 0.972\n",
      " p-value: 0.02790999999999999  ---  effect size: 0.9789425490232928\n"
     ]
    },
    {
     "data": {
      "text/plain": [
       "[0.02790999999999999, 0.9789425490232928]"
      ]
     },
     "execution_count": 15,
     "metadata": {},
     "output_type": "execute_result"
    }
   ],
   "source": [
    "getPValueAndEffect(ES_inlp_debiased_model, ES_names_m, ES_names_f, ES_career, ES_family)"
   ]
  },
  {
   "cell_type": "code",
   "execution_count": 24,
   "id": "4e373c6b-eed3-4d6e-83ca-768c6c8fca7e",
   "metadata": {},
   "outputs": [
    {
     "name": "stdout",
     "output_type": "stream",
     "text": [
      "The test statistic is: 0.015629870384373135\n",
      "Generating null distribution...\n",
      "Number of permutations: 100 000\n",
      "Getting the entire distribution...\n",
      "P(x<0.015629870384373135): 0.844\n",
      " p-value: 0.15589999999999993  ---  effect size: 0.5343054586274358\n"
     ]
    },
    {
     "data": {
      "text/plain": [
       "[0.15589999999999993, 0.5343054586274358]"
      ]
     },
     "execution_count": 24,
     "metadata": {},
     "output_type": "execute_result"
    }
   ],
   "source": [
    "getPValueAndEffect(ES_inlp_debiased_model, ES_science, ES_arts, ES_m_terms, ES_f_terms)"
   ]
  },
  {
   "cell_type": "code",
   "execution_count": 31,
   "id": "f6f93031-b765-41fc-89a2-6d60313b67f6",
   "metadata": {},
   "outputs": [
    {
     "name": "stdout",
     "output_type": "stream",
     "text": [
      "The test statistic is: 0.004454508320122841\n",
      "Generating null distribution...\n",
      "Number of permutations: 100 000\n",
      "Getting the entire distribution...\n",
      "P(x<0.004454508320122841): 0.613\n",
      " p-value: 0.38665000000000005  ---  effect size: 0.15610308588015043\n"
     ]
    },
    {
     "data": {
      "text/plain": [
       "[0.38665000000000005, 0.15610308588015043]"
      ]
     },
     "execution_count": 31,
     "metadata": {},
     "output_type": "execute_result"
    }
   ],
   "source": [
    "getPValueAndEffect(ES_inlp_debiased_model, ES_math, ES_arts, ES_m_terms, ES_f_terms)"
   ]
  },
  {
   "cell_type": "markdown",
   "id": "5bb1d62e-3e65-497c-b514-d0b5851d7beb",
   "metadata": {},
   "source": [
    "#### French - INLP"
   ]
  },
  {
   "cell_type": "code",
   "execution_count": 19,
   "id": "f07a8208-8299-4f3a-8177-7aae3cd320e1",
   "metadata": {},
   "outputs": [
    {
     "name": "stdout",
     "output_type": "stream",
     "text": [
      "The test statistic is: 0.13282385236470873\n",
      "Generating null distribution...\n",
      "Number of permutations: 100 000\n",
      "Getting the entire distribution...\n",
      "P(x<0.13282385236470873): 1.000\n",
      " p-value: 0.00014999999999998348  ---  effect size: 1.5884540363268778\n"
     ]
    },
    {
     "data": {
      "text/plain": [
       "[0.00014999999999998348, 1.5884540363268778]"
      ]
     },
     "execution_count": 19,
     "metadata": {},
     "output_type": "execute_result"
    }
   ],
   "source": [
    "getPValueAndEffect(FR_inlp_debiased_model, FR_names_m, FR_names_f, FR_career, FR_family)"
   ]
  },
  {
   "cell_type": "code",
   "execution_count": 20,
   "id": "a8bfddc3-2d89-48b3-9377-b6470663943d",
   "metadata": {},
   "outputs": [
    {
     "name": "stdout",
     "output_type": "stream",
     "text": [
      "The test statistic is: 0.02299805019924861\n",
      "Generating null distribution...\n",
      "Number of permutations: 100 000\n",
      "Getting the entire distribution...\n",
      "P(x<0.02299805019924861): 0.712\n",
      " p-value: 0.28801  ---  effect size: 0.30298307348092435\n"
     ]
    },
    {
     "data": {
      "text/plain": [
       "[0.28801, 0.30298307348092435]"
      ]
     },
     "execution_count": 20,
     "metadata": {},
     "output_type": "execute_result"
    }
   ],
   "source": [
    "getPValueAndEffect(FR_inlp_debiased_model, FR_science, FR_arts, FR_m_terms, FR_f_terms)"
   ]
  },
  {
   "cell_type": "code",
   "execution_count": 21,
   "id": "954f124d-2264-434c-a3a5-58067a2509b4",
   "metadata": {},
   "outputs": [
    {
     "name": "stdout",
     "output_type": "stream",
     "text": [
      "The test statistic is: 0.029655851398956656\n",
      "Generating null distribution...\n",
      "Number of permutations: 100 000\n",
      "Getting the entire distribution...\n",
      "P(x<0.029655851398956656): 0.783\n",
      " p-value: 0.21736  ---  effect size: 0.4096284836126811\n"
     ]
    },
    {
     "data": {
      "text/plain": [
       "[0.21736, 0.4096284836126811]"
      ]
     },
     "execution_count": 21,
     "metadata": {},
     "output_type": "execute_result"
    }
   ],
   "source": [
    "getPValueAndEffect(FR_inlp_debiased_model, FR_math, FR_arts, FR_m_terms, FR_f_terms)"
   ]
  },
  {
   "cell_type": "markdown",
   "id": "70583745-3238-4769-a83e-ecdd60b4b6e7",
   "metadata": {},
   "source": [
    "#### Spanish - INLP-ES"
   ]
  },
  {
   "cell_type": "code",
   "execution_count": 33,
   "id": "5d9a71dd-9e96-4eda-9267-d1d8ef99b80a",
   "metadata": {},
   "outputs": [
    {
     "name": "stdout",
     "output_type": "stream",
     "text": [
      "The test statistic is: 0.0027255935565335676\n",
      "Generating null distribution...\n",
      "Number of permutations: 100 000\n",
      "Getting the entire distribution...\n",
      "P(x<0.0027255935565335676): 0.554\n",
      " p-value: 0.44550999999999996  ---  effect size: 0.07024698684218093\n"
     ]
    },
    {
     "data": {
      "text/plain": [
       "[0.44550999999999996, 0.07024698684218093]"
      ]
     },
     "execution_count": 33,
     "metadata": {},
     "output_type": "execute_result"
    }
   ],
   "source": [
    "getPValueAndEffect(inlpES_debiased_model, ES_career, ES_family, ES_m_terms, ES_f_terms)"
   ]
  },
  {
   "cell_type": "code",
   "execution_count": 16,
   "id": "8bd349d0-6873-43d6-8796-9ff1d0fe5ffb",
   "metadata": {},
   "outputs": [
    {
     "name": "stdout",
     "output_type": "stream",
     "text": [
      "The test statistic is: 0.04133938253971792\n",
      "Generating null distribution...\n",
      "Number of permutations: 100 000\n",
      "Getting the entire distribution...\n",
      "P(x<0.04133938253971792): 0.945\n",
      " p-value: 0.05474000000000001  ---  effect size: 0.8206078288392065\n"
     ]
    },
    {
     "data": {
      "text/plain": [
       "[0.05474000000000001, 0.8206078288392065]"
      ]
     },
     "execution_count": 16,
     "metadata": {},
     "output_type": "execute_result"
    }
   ],
   "source": [
    "getPValueAndEffect(inlpES_debiased_model, ES_names_m, ES_names_f, ES_career, ES_family)"
   ]
  },
  {
   "cell_type": "code",
   "execution_count": 31,
   "id": "b285d820-5a0e-4c3a-9274-3882de09f631",
   "metadata": {},
   "outputs": [
    {
     "name": "stdout",
     "output_type": "stream",
     "text": [
      "The test statistic is: 0.010162278244024492\n",
      "Generating null distribution...\n",
      "Number of permutations: 100 000\n",
      "Getting the entire distribution...\n",
      "P(x<0.010162278244024492): 0.677\n",
      " p-value: 0.32264000000000004  ---  effect size: 0.24659159706408443\n"
     ]
    },
    {
     "data": {
      "text/plain": [
       "[0.32264000000000004, 0.24659159706408443]"
      ]
     },
     "execution_count": 31,
     "metadata": {},
     "output_type": "execute_result"
    }
   ],
   "source": [
    "getPValueAndEffect(inlpES_debiased_model, ES_science, ES_arts, ES_m_terms, ES_f_terms)"
   ]
  },
  {
   "cell_type": "code",
   "execution_count": 32,
   "id": "d9780af5-fd8f-4f02-b2ea-0764490a5284",
   "metadata": {},
   "outputs": [
    {
     "name": "stdout",
     "output_type": "stream",
     "text": [
      "The test statistic is: 0.01161561180560966\n",
      "Generating null distribution...\n",
      "Number of permutations: 100 000\n",
      "Getting the entire distribution...\n",
      "P(x<0.01161561180560966): 0.715\n",
      " p-value: 0.28471  ---  effect size: 0.30105361991914736\n"
     ]
    },
    {
     "data": {
      "text/plain": [
       "[0.28471, 0.30105361991914736]"
      ]
     },
     "execution_count": 32,
     "metadata": {},
     "output_type": "execute_result"
    }
   ],
   "source": [
    "getPValueAndEffect(inlpES_debiased_model, ES_math, ES_arts, ES_m_terms, ES_f_terms)"
   ]
  },
  {
   "cell_type": "markdown",
   "id": "55868804-6313-4237-8c3c-aee302e7e7ee",
   "metadata": {},
   "source": [
    "#### French - INLP-Gram"
   ]
  },
  {
   "cell_type": "code",
   "execution_count": 22,
   "id": "dc0ff7a7-b1f8-455f-b549-ff57a0a9989d",
   "metadata": {},
   "outputs": [
    {
     "name": "stdout",
     "output_type": "stream",
     "text": [
      "The test statistic is: 0.10503778503607464\n",
      "Generating null distribution...\n",
      "Number of permutations: 100 000\n",
      "Getting the entire distribution...\n",
      "P(x<0.10503778503607464): 0.996\n",
      " p-value: 0.0040000000000000036  ---  effect size: 1.3072616030955209\n"
     ]
    },
    {
     "data": {
      "text/plain": [
       "[0.0040000000000000036, 1.3072616030955209]"
      ]
     },
     "execution_count": 22,
     "metadata": {},
     "output_type": "execute_result"
    }
   ],
   "source": [
    "getPValueAndEffect(FR_inlpGram_debiased_model, FR_names_m, FR_names_f, FR_career, FR_family)"
   ]
  },
  {
   "cell_type": "code",
   "execution_count": 23,
   "id": "c3b1a8ae-5a0e-446a-bbfc-662b673d1ac9",
   "metadata": {},
   "outputs": [
    {
     "name": "stdout",
     "output_type": "stream",
     "text": [
      "The test statistic is: 0.009789884486281153\n",
      "Generating null distribution...\n",
      "Number of permutations: 100 000\n",
      "Getting the entire distribution...\n",
      "P(x<0.009789884486281153): 0.579\n",
      " p-value: 0.42101  ---  effect size: 0.1024992820576128\n"
     ]
    },
    {
     "data": {
      "text/plain": [
       "[0.42101, 0.1024992820576128]"
      ]
     },
     "execution_count": 23,
     "metadata": {},
     "output_type": "execute_result"
    }
   ],
   "source": [
    "getPValueAndEffect(FR_inlpGram_debiased_model, FR_science, FR_arts, FR_m_terms, FR_f_terms)"
   ]
  },
  {
   "cell_type": "code",
   "execution_count": 24,
   "id": "217559d1-fcbc-4a45-b185-83fe4d74df95",
   "metadata": {},
   "outputs": [
    {
     "name": "stdout",
     "output_type": "stream",
     "text": [
      "The test statistic is: 0.05789810624213487\n",
      "Generating null distribution...\n",
      "Number of permutations: 100 000\n",
      "Getting the entire distribution...\n",
      "P(x<0.05789810624213487): 0.880\n",
      " p-value: 0.11992000000000003  ---  effect size: 0.6155933337049185\n"
     ]
    },
    {
     "data": {
      "text/plain": [
       "[0.11992000000000003, 0.6155933337049185]"
      ]
     },
     "execution_count": 24,
     "metadata": {},
     "output_type": "execute_result"
    }
   ],
   "source": [
    "getPValueAndEffect(FR_inlpGram_debiased_model, FR_math, FR_arts, FR_m_terms, FR_f_terms)"
   ]
  },
  {
   "cell_type": "markdown",
   "id": "dc136804-d060-4b81-811a-d9e7630b38c5",
   "metadata": {},
   "source": [
    "# -----------------------------------"
   ]
  },
  {
   "cell_type": "code",
   "execution_count": 51,
   "id": "a0fc3e45-e85e-411a-9823-174650919b6f",
   "metadata": {},
   "outputs": [
    {
     "name": "stdout",
     "output_type": "stream",
     "text": [
      "The test statistic is: 0.028627121391764376\n",
      "Generating null distribution...\n",
      "Number of permutations: 100 000\n",
      "Getting the entire distribution...\n",
      "P(x<0.028627121391764376): 0.925\n",
      " p-value: 0.07489999999999997  ---  effect size: 0.7560373911927024\n"
     ]
    },
    {
     "data": {
      "text/plain": [
       "[0.07489999999999997, 0.7560373911927024]"
      ]
     },
     "execution_count": 51,
     "metadata": {},
     "output_type": "execute_result"
    }
   ],
   "source": [
    "getPValueAndEffect(ES_biased_model, ES_career, ES_family, ES_m_terms, ES_f_terms)"
   ]
  },
  {
   "cell_type": "code",
   "execution_count": 26,
   "id": "3e27155d-9303-4f1d-9ad5-57ab3ef13a93",
   "metadata": {},
   "outputs": [
    {
     "name": "stdout",
     "output_type": "stream",
     "text": [
      "The test statistic is: -0.008335834066230063\n",
      "Generating null distribution...\n",
      "Number of permutations: 100 000\n",
      "Getting the entire distribution...\n",
      "P(x<-0.008335834066230063): 0.294\n",
      " p-value: 0.7063299999999999  ---  effect size: -0.2938785501825947\n"
     ]
    },
    {
     "data": {
      "text/plain": [
       "[0.7063299999999999, -0.2938785501825947]"
      ]
     },
     "execution_count": 26,
     "metadata": {},
     "output_type": "execute_result"
    }
   ],
   "source": [
    "getPValueAndEffect(ES_inlp_debiased_model, ES_career, ES_family, ES_m_terms, ES_f_terms)"
   ]
  },
  {
   "cell_type": "code",
   "execution_count": 33,
   "id": "0b76b15f-29f4-41e6-9eeb-3752c62c7f8c",
   "metadata": {},
   "outputs": [
    {
     "name": "stdout",
     "output_type": "stream",
     "text": [
      "The test statistic is: -0.0027255935565335676\n",
      "Generating null distribution...\n",
      "Number of permutations: 100 000\n",
      "Getting the entire distribution...\n",
      "P(x<-0.0027255935565335676): 0.446\n",
      " p-value: 0.5543799999999999  ---  effect size: -0.07024698684218093\n"
     ]
    },
    {
     "data": {
      "text/plain": [
       "[0.5543799999999999, -0.07024698684218093]"
      ]
     },
     "execution_count": 33,
     "metadata": {},
     "output_type": "execute_result"
    }
   ],
   "source": [
    "getPValueAndEffect(inlpES_debiased_model, ES_career, ES_family, ES_m_terms, ES_f_terms)"
   ]
  },
  {
   "cell_type": "markdown",
   "id": "4fe4fd8e-a5cd-4c94-af51-e4ac10f87d94",
   "metadata": {},
   "source": [
    "# -----------------------------------------------"
   ]
  },
  {
   "cell_type": "code",
   "execution_count": 27,
   "id": "939dd903-1231-4967-acf9-42ffdb832321",
   "metadata": {},
   "outputs": [
    {
     "name": "stdout",
     "output_type": "stream",
     "text": [
      "[['abadesa', 'abad', 'abades', 'abadesas'], ['abaleadora', 'abaleador', 'abaleadores', 'abaleadoras'], ['abaniquera', 'abaniquero', 'abaniqueros', 'abaniqueras'], ['abarquera', 'abarquero', 'abarqueros', 'abarqueras'], ['abastecedora', 'abastecedor', 'abastecedores', 'abastecedoras']]\n",
      "1376\n",
      "[['abogada', 'abogado', 'abogados', 'abogadas'], ['académica', 'académico', 'académicos', 'académicas'], ['actriz', 'actor', 'actores', 'actrices'], ['adivina', 'adivino', 'adivinos', 'adivinas'], ['adjunta', 'adjunto', 'adjuntos', 'adjuntas']]\n",
      "79\n",
      "[['abogado', 'abogada'], ['académico', 'académica'], ['actor', 'actriz'], ['adivino', 'adivina'], ['adjunto', 'adjunta'], ['administrador', 'administradora'], ['administrativo', 'administrativa'], ['aduanero', 'aduanera'], ['agregado', 'agregada'], ['bailarín', 'bailarina']]\n",
      "79\n",
      "['abogada', 'académica', 'actriz', 'adivina', 'adjunta', 'administradora', 'administrativa', 'aduanera', 'agregada', 'bailarina']\n",
      "['abogado', 'académico', 'actor', 'adivino', 'adjunto', 'administrador', 'administrativo', 'aduanero', 'agregado', 'bailarín']\n"
     ]
    }
   ],
   "source": [
    "import json \n",
    "\n",
    "with open('../data/sets_palabras/ES/ES_professions.json', \"r\", encoding='utf-8') as f:\n",
    "    professions = json.load(f)\n",
    "\n",
    "print(professions[:5])\n",
    "print(len(professions))\n",
    "\n",
    "professions_con_flexion_genero = []\n",
    "\n",
    "for profession in professions :\n",
    "    if profession[0] not in ES_biased_model \\\n",
    "    or profession[1] not in ES_biased_model \\\n",
    "    or profession[2] not in ES_biased_model \\\n",
    "    or profession[3] not in ES_biased_model:\n",
    "        continue\n",
    "    if profession[0] != profession[1] :\n",
    "        professions_con_flexion_genero.append(profession)\n",
    "\n",
    "print(professions_con_flexion_genero[:5])\n",
    "print(len(professions_con_flexion_genero))\n",
    "\n",
    "# profession_pairs\n",
    "\n",
    "profession_pairs = []\n",
    "\n",
    "for profession in professions_con_flexion_genero:\n",
    "    pair = []\n",
    "    pair.append(profession[1])\n",
    "    pair.append(profession[0])\n",
    "    \n",
    "    profession_pairs.append(pair)\n",
    "\n",
    "print(profession_pairs[:10])\n",
    "print(len(profession_pairs))\n",
    "\n",
    "# professions_fem, professions_masc\n",
    "\n",
    "professions_f = []\n",
    "professions_m = []\n",
    "\n",
    "for profession in professions_con_flexion_genero:\n",
    "    professions_f.append(profession[0])\n",
    "    professions_m.append(profession[1])\n",
    "\n",
    "\n",
    "print(professions_f[:10])\n",
    "print(professions_m[:10])"
   ]
  },
  {
   "cell_type": "code",
   "execution_count": 56,
   "id": "6531405e-42ad-4a57-8641-71aac3e26eec",
   "metadata": {},
   "outputs": [
    {
     "name": "stdout",
     "output_type": "stream",
     "text": [
      "The test statistic is: 0.14855325026522373\n",
      "Generating null distribution...\n",
      "Number of permutations: 100 000\n",
      "Getting the entire distribution...\n",
      "P(x<0.14855325026522373): 1.000\n",
      " p-value: 0.0  ---  effect size: 1.7131703467388972\n"
     ]
    },
    {
     "data": {
      "text/plain": [
       "[0.0, 1.7131703467388972]"
      ]
     },
     "execution_count": 56,
     "metadata": {},
     "output_type": "execute_result"
    }
   ],
   "source": [
    "getPValueAndEffect(ES_biased_model, professions_m, professions_f, ES_m_terms, ES_f_terms)"
   ]
  },
  {
   "cell_type": "code",
   "execution_count": 28,
   "id": "2f04834a-783c-4a55-99fa-dff1136eb099",
   "metadata": {},
   "outputs": [
    {
     "name": "stdout",
     "output_type": "stream",
     "text": [
      "The test statistic is: 0.02637847507989441\n",
      "Generating null distribution...\n",
      "Number of permutations: 100 000\n",
      "Getting the entire distribution...\n",
      "P(x<0.02637847507989441): 1.000\n",
      " p-value: 0.0  ---  effect size: 0.7459652025040072\n"
     ]
    },
    {
     "data": {
      "text/plain": [
       "[0.0, 0.7459652025040072]"
      ]
     },
     "execution_count": 28,
     "metadata": {},
     "output_type": "execute_result"
    }
   ],
   "source": [
    "getPValueAndEffect(ES_inlp_debiased_model, professions_m, professions_f, ES_m_terms, ES_f_terms)"
   ]
  },
  {
   "cell_type": "code",
   "execution_count": 58,
   "id": "9923b187-3960-4d89-b19c-fc92cfff5121",
   "metadata": {},
   "outputs": [
    {
     "name": "stdout",
     "output_type": "stream",
     "text": [
      "The test statistic is: 0.06247029392959777\n",
      "Generating null distribution...\n",
      "Number of permutations: 100 000\n",
      "Getting the entire distribution...\n",
      "P(x<0.06247029392959777): 1.000\n",
      " p-value: 0.0  ---  effect size: 1.7519528073857364\n"
     ]
    },
    {
     "data": {
      "text/plain": [
       "[0.0, 1.7519528073857364]"
      ]
     },
     "execution_count": 58,
     "metadata": {},
     "output_type": "execute_result"
    }
   ],
   "source": [
    "getPValueAndEffect(inlpES_debiased_model_V7, professions_m, professions_f, ES_m_terms, ES_f_terms)"
   ]
  },
  {
   "cell_type": "code",
   "execution_count": 34,
   "id": "8d39d080-94d3-4389-bd31-cb5c6aabb008",
   "metadata": {},
   "outputs": [
    {
     "name": "stdout",
     "output_type": "stream",
     "text": [
      "The test statistic is: 0.0830209437742882\n",
      "Generating null distribution...\n",
      "Number of permutations: 100 000\n",
      "Getting the entire distribution...\n",
      "P(x<0.0830209437742882): 1.000\n",
      " p-value: 0.0  ---  effect size: 1.8181926340139574\n"
     ]
    },
    {
     "data": {
      "text/plain": [
       "[0.0, 1.8181926340139574]"
      ]
     },
     "execution_count": 34,
     "metadata": {},
     "output_type": "execute_result"
    }
   ],
   "source": [
    "getPValueAndEffect(inlpES_debiased_model, professions_m, professions_f, ES_m_terms, ES_f_terms)"
   ]
  },
  {
   "cell_type": "markdown",
   "id": "c334e5df-1fe7-4dce-a974-3a3bcf118186",
   "metadata": {},
   "source": [
    "# -----------------------------------------------"
   ]
  },
  {
   "cell_type": "markdown",
   "id": "121a0cc0-1732-456b-a5b4-50c3f0acda9c",
   "metadata": {},
   "source": [
    "### old WEAT implementation"
   ]
  },
  {
   "cell_type": "code",
   "execution_count": 17,
   "id": "a7ad6eb8-cec0-4cdd-8f9a-714a67da3cc9",
   "metadata": {},
   "outputs": [],
   "source": [
    "import directions\n",
    "import math\n",
    "\n",
    "def WEAT_s(model, w, A, B):\n",
    "    \"\"\"\n",
    "    Word Embedding Association Test (Calistan et al.) s measure.\n",
    "    s measures the association of a target word w with the attribute (e.g. gender).\n",
    "    The higher the value, the stronger is the bias of the word towards one side of the attribute.\n",
    "    Formula: \n",
    "    s(w, A, B) = (1 / |A|) * Σ (cos(w, a)) for all a ∈ A\n",
    "               - (1 / |B|) * Σ (cos(w, b)) for all b ∈ B\n",
    "    :param model: \n",
    "    :param w: target word\n",
    "    :param A: set A of attribute words\n",
    "    :param B: set B of attribute words\n",
    "    :return: s measure of WEAT\n",
    "    \"\"\"\n",
    "\n",
    "    if w not in model:\n",
    "        print(f\" Caution: word {w} not in model\")\n",
    "        return 0.0\n",
    "\n",
    "    s_a =  []\n",
    "    for a in A: \n",
    "                \n",
    "        if a not in model:\n",
    "            print(f\" Caution: word {a} not in model\")\n",
    "            continue\n",
    "                    \n",
    "        s_a.append(directions.cos_sim(model[w], model[a]))\n",
    "\n",
    "\n",
    "    s_b =  []\n",
    "    for b in B: \n",
    "                \n",
    "        if b not in model:\n",
    "            print(f\" Caution: word {b} not in model\")\n",
    "            continue\n",
    "                    \n",
    "        s_b.append(directions.cos_sim(model[w], model[b]))\n",
    "\n",
    "    print(f\" s({w}, A): {s_a}\")\n",
    "    print(f\" s({w}, B): {s_b}\")\n",
    "    s = abs(np.mean(s_a) - np.mean(s_b))\n",
    "\n",
    "    return s\n",
    "    \n",
    "def WEAT_effect_size(model, X, Y, A, B, print_val=True):\n",
    "    \"\"\"\n",
    "    Word Embedding Association Test (Calistan et al.) effect size.\n",
    "    The effect size represents the practical/substantive significance of the difference between the distributions of s measures for the target sets.\n",
    "    The calculation is made similar to cohen's d, but dividing by the standard deviation of all s instead of the pooled standard deviation. Conventional small, medium, and large values of d are 0.2, 0.5,and 0.8.\n",
    "    Formula: \n",
    "    effect_size = (mean_x∈X[s(x, A, B)] - mean_y∈Y[s(y, A, B)]) / std_dev_w∈(X ∪ Y)[s(w, A, B)]\n",
    "    :param model: \n",
    "    :param X: set X of target words\n",
    "    :param Y: set Y of target words\n",
    "    :param A: set A of attribute words\n",
    "    :param B: set B of attribute words\n",
    "    :return: effect size of WEAT\n",
    "    \"\"\"\n",
    "\n",
    "    s_x = [WEAT_s(model, x, A, B) for x in X]\n",
    "    s_y = [WEAT_s(model, y, A, B) for y in Y]\n",
    "\n",
    "    cohens_d = abs(np.mean(s_x) - np.mean(s_y)) / (math.sqrt((np.std(s_x) ** 2 + np.std(s_y) ** 2) / 2))\n",
    "    \n",
    "    all_s = s_x + s_y\n",
    "    effect_size = np.mean(s_x) - np.mean(s_y) / np.std(all_s)\n",
    "\n",
    "    if(print_val):\n",
    "        print(f\" Cohen's d: {cohens_d}, WEAT effect size: {effect_size}\")\n",
    "\n",
    "    return effect_size"
   ]
  },
  {
   "cell_type": "code",
   "execution_count": 18,
   "id": "de21b010-f2c0-4894-b677-2636f1d997fe",
   "metadata": {},
   "outputs": [
    {
     "name": "stdout",
     "output_type": "stream",
     "text": [
      " s(executive, A): [0.46872702, 0.42464915, 0.44472468, 0.43549415, 0.4881325, 0.4160607, 0.44065785, 0.46548235]\n",
      " s(executive, B): [0.3534468, 0.31298375, 0.37411982, 0.33383036, 0.27878794, 0.2735548, 0.35359195, 0.35615593]\n",
      " s(management, A): [0.36312026, 0.34031165, 0.33526832, 0.334901, 0.3458093, 0.32663044, 0.33756146, 0.3590266]\n",
      " s(management, B): [0.27504888, 0.21252686, 0.27749166, 0.26651558, 0.19309938, 0.20756912, 0.2856372, 0.24477504]\n",
      " s(professional, A): [0.33290067, 0.35745198, 0.33488828, 0.3483505, 0.36677036, 0.2718872, 0.33023113, 0.31788054]\n",
      " s(professional, B): [0.31290284, 0.23117344, 0.3124807, 0.27845848, 0.24597083, 0.25813854, 0.24357107, 0.25471517]\n",
      " s(corporation, A): [0.29249278, 0.2525705, 0.26205462, 0.24184307, 0.28062987, 0.22082262, 0.22750932, 0.28548187]\n",
      " s(corporation, B): [0.16115607, 0.20675342, 0.21644777, 0.1885879, 0.1615571, 0.14986685, 0.2901543, 0.20045824]\n",
      " s(salary, A): [0.244817, 0.24879517, 0.25901145, 0.25922087, 0.25134376, 0.17908977, 0.23043962, 0.346609]\n",
      " s(salary, B): [0.15350524, 0.15862957, 0.21168283, 0.16255999, 0.10638199, 0.10276106, 0.22800039, 0.1432906]\n",
      " s(office, A): [0.4411782, 0.40019363, 0.39871842, 0.38037467, 0.41530862, 0.34471288, 0.34821835, 0.42172647]\n",
      " s(office, B): [0.34028772, 0.25901255, 0.38196987, 0.35806146, 0.24905427, 0.27795652, 0.33871505, 0.30671927]\n",
      " s(business, A): [0.42836517, 0.37754557, 0.38942847, 0.34061116, 0.40720162, 0.3248553, 0.36262742, 0.4346243]\n",
      " s(business, B): [0.3052435, 0.21075796, 0.3089114, 0.30674174, 0.22228783, 0.2736268, 0.33931017, 0.27764812]\n",
      " s(career, A): [0.3742674, 0.36504984, 0.38944492, 0.3728832, 0.41293937, 0.34240618, 0.40164366, 0.32313973]\n",
      " s(career, B): [0.32885012, 0.3110865, 0.2840491, 0.34371936, 0.30541858, 0.28277218, 0.28892195, 0.2944977]\n",
      " s(home, A): [0.45166895, 0.41723853, 0.4137162, 0.39078683, 0.38561207, 0.3319713, 0.38864946, 0.39935187]\n",
      " s(home, B): [0.3374356, 0.27800077, 0.37438825, 0.3726252, 0.29175037, 0.2994173, 0.34599692, 0.32072803]\n",
      " s(parents, A): [0.42016956, 0.37787315, 0.38006002, 0.36761475, 0.35741028, 0.35958678, 0.35571873, 0.4169764]\n",
      " s(parents, B): [0.41589972, 0.32375228, 0.40997607, 0.49456424, 0.3243739, 0.41701165, 0.43094411, 0.33963117]\n",
      " s(children, A): [0.40826035, 0.35147578, 0.34736001, 0.32342747, 0.32372737, 0.32669088, 0.31378916, 0.3733927]\n",
      " s(children, B): [0.37255162, 0.31783313, 0.3669, 0.46291026, 0.32473853, 0.39216456, 0.43487486, 0.28786153]\n",
      " s(family, A): [0.45193928, 0.38624337, 0.35978216, 0.37250286, 0.3662413, 0.3256857, 0.3537759, 0.40045273]\n",
      " s(family, B): [0.38524887, 0.32482928, 0.39057368, 0.44264892, 0.3443591, 0.37655017, 0.40949374, 0.3264623]\n",
      " s(cousins, A): [0.31443867, 0.3062516, 0.3566265, 0.39351273, 0.33325633, 0.35398987, 0.3126328, 0.24270642]\n",
      " s(cousins, B): [0.35853413, 0.2622824, 0.35601115, 0.40038323, 0.2566725, 0.34374583, 0.32855508, 0.27022383]\n",
      " s(marriage, A): [0.4211174, 0.36858988, 0.30344534, 0.30104244, 0.30993247, 0.29857096, 0.28027797, 0.44384924]\n",
      " s(marriage, B): [0.33823374, 0.2970168, 0.32397133, 0.5177705, 0.3212753, 0.4119134, 0.41062763, 0.26814476]\n",
      " s(wedding, A): [0.3157836, 0.34139547, 0.32388648, 0.31705317, 0.32710037, 0.3087333, 0.28903982, 0.28213504]\n",
      " s(wedding, B): [0.36675414, 0.21445236, 0.3257387, 0.39171606, 0.35908473, 0.44720724, 0.3407149, 0.3515466]\n",
      " s(relatives, A): [0.25035724, 0.24765234, 0.18982166, 0.23603542, 0.2129423, 0.18373908, 0.20211826, 0.25755426]\n",
      " s(relatives, B): [0.2582789, 0.23528366, 0.2626701, 0.3166612, 0.22665012, 0.2282134, 0.2753123, 0.23451409]\n",
      " Cohen's d: 3.0626248159332095, WEAT effect size: -0.6245216131210327\n"
     ]
    },
    {
     "data": {
      "text/plain": [
       "-0.6245216"
      ]
     },
     "execution_count": 18,
     "metadata": {},
     "output_type": "execute_result"
    }
   ],
   "source": [
    "WEAT_effect_size(EN_biased_model, EN_career, EN_family, EN_names_m, EN_names_f)"
   ]
  },
  {
   "cell_type": "code",
   "execution_count": 19,
   "id": "d0b51bad-2015-4f42-aa77-1c89195cf9de",
   "metadata": {},
   "outputs": [
    {
     "name": "stdout",
     "output_type": "stream",
     "text": [
      " s(science, A): [0.24836366, 0.3694262, 0.3150985, 0.24370603, 0.4359333, 0.35561424, 0.4121055, 0.26441273]\n",
      " s(science, B): [0.27091345, 0.30132842, 0.32192507, 0.2716656, 0.40148437, 0.36965644, 0.19065318, 0.2626758]\n",
      " s(technology, A): [0.21663648, 0.3292077, 0.25874332, 0.25685295, 0.40509188, 0.31531975, 0.36582658, 0.2422065]\n",
      " s(technology, B): [0.24345261, 0.27297074, 0.25848034, 0.2498447, 0.3594249, 0.3259009, 0.15651333, 0.22474097]\n",
      " s(physics, A): [0.12080871, 0.24583143, 0.2199515, 0.15035567, 0.3229123, 0.2616633, 0.30109364, 0.1549573]\n",
      " s(physics, B): [0.14506869, 0.16118117, 0.22396684, 0.17982621, 0.26934367, 0.24225138, 0.106127575, 0.17371677]\n",
      " s(chemistry, A): [0.18829039, 0.23897474, 0.20735183, 0.19692405, 0.3192347, 0.25746825, 0.29760125, 0.17566423]\n",
      " s(chemistry, B): [0.20087527, 0.19856153, 0.2518113, 0.22557685, 0.32009536, 0.29738724, 0.20795637, 0.23988399]\n",
      " s(hypothesis, A): [0.17894559, 0.25227666, 0.13497306, 0.1123319, 0.25226283, 0.20625478, 0.24217054, 0.1434422]\n",
      " s(hypothesis, B): [0.1558541, 0.16985959, 0.11984584, 0.13522182, 0.21560013, 0.20602883, 0.1270851, 0.15235065]\n",
      " s(atom, A): [0.13570423, 0.21268629, 0.22480434, 0.2082761, 0.20063204, 0.19363923, 0.20093766, 0.16071543]\n",
      " s(atom, B): [0.13571694, 0.12053865, 0.1876783, 0.19268973, 0.14823508, 0.1453613, 0.10262997, 0.1529539]\n",
      " s(experiment, A): [0.2304033, 0.34688014, 0.32374325, 0.24004799, 0.40331435, 0.3537313, 0.36062637, 0.20000397]\n",
      " s(experiment, B): [0.24491954, 0.3066494, 0.32751417, 0.27841747, 0.37350377, 0.3348584, 0.21224654, 0.25586796]\n",
      " s(astronomy, A): [0.09200497, 0.16540825, 0.14858712, 0.10568536, 0.19529885, 0.16016638, 0.21599483, 0.123262584]\n",
      " s(astronomy, B): [0.093235865, 0.119954415, 0.1429637, 0.13629167, 0.15701716, 0.1681716, 0.06918279, 0.11750852]\n",
      " s(poetry, A): [0.23617893, 0.31597006, 0.3176209, 0.26819724, 0.3628617, 0.34025264, 0.386499, 0.22338217]\n",
      " s(poetry, B): [0.28218547, 0.33770835, 0.34885925, 0.3339907, 0.37951738, 0.3856289, 0.23542587, 0.29338527]\n",
      " s(art, A): [0.3227174, 0.46307012, 0.39832753, 0.29383156, 0.45195937, 0.3958634, 0.45844167, 0.32481048]\n",
      " s(art, B): [0.3487408, 0.4382812, 0.44741216, 0.3391197, 0.4539118, 0.44114932, 0.19920066, 0.32379282]\n",
      " s(sculpture, A): [0.28305474, 0.32096723, 0.26703003, 0.17237455, 0.296011, 0.23995407, 0.29387397, 0.22023204]\n",
      " s(sculpture, B): [0.30505702, 0.34235466, 0.27449206, 0.21565713, 0.29277056, 0.26873487, 0.14003357, 0.21944417]\n",
      " s(dance, A): [0.3385151, 0.4088972, 0.45626482, 0.32223862, 0.4388333, 0.4193886, 0.41979092, 0.29655576]\n",
      " s(dance, B): [0.39049375, 0.41798243, 0.5433954, 0.42297062, 0.5068401, 0.4810425, 0.28601176, 0.35288334]\n",
      " s(literature, A): [0.30782726, 0.3088833, 0.25215766, 0.2023573, 0.3742003, 0.31049252, 0.36860192, 0.20477583]\n",
      " s(literature, B): [0.3127419, 0.3165388, 0.26672208, 0.22269161, 0.35706323, 0.34099528, 0.18557812, 0.22722274]\n",
      " s(novel, A): [0.22838247, 0.35794804, 0.3425758, 0.28729188, 0.396298, 0.35042888, 0.41852212, 0.31034675]\n",
      " s(novel, B): [0.2620763, 0.35650462, 0.3647196, 0.37339538, 0.40635672, 0.42682838, 0.23560385, 0.37048224]\n",
      " s(symphony, A): [0.1571569, 0.231182, 0.21106398, 0.20415199, 0.26976222, 0.1973584, 0.2638953, 0.17098017]\n",
      " s(symphony, B): [0.18440843, 0.2200305, 0.20674466, 0.26823008, 0.25516805, 0.22361924, 0.08197261, 0.20012549]\n",
      " s(drama, A): [0.2714487, 0.38230908, 0.3803797, 0.3428237, 0.4087691, 0.3758858, 0.3868521, 0.3040164]\n",
      " s(drama, B): [0.30318862, 0.35407704, 0.43342805, 0.36288658, 0.45041513, 0.42340606, 0.21734904, 0.33508658]\n",
      " Cohen's d: 1.345352096134578, WEAT effect size: -1.0667811632156372\n"
     ]
    },
    {
     "data": {
      "text/plain": [
       "-1.0667812"
      ]
     },
     "execution_count": 19,
     "metadata": {},
     "output_type": "execute_result"
    }
   ],
   "source": [
    "WEAT_effect_size(EN_biased_model, EN_science, EN_arts, EN_m_terms, EN_f_terms)"
   ]
  },
  {
   "cell_type": "code",
   "execution_count": 20,
   "id": "8a1b4a4b-5da9-41ad-9185-e4a34eab77da",
   "metadata": {},
   "outputs": [
    {
     "name": "stdout",
     "output_type": "stream",
     "text": [
      " s(poetry, A): [0.23617893, 0.31597006, 0.3176209, 0.26819724, 0.3628617, 0.34025264, 0.386499, 0.22338217]\n",
      " s(poetry, B): [0.28218547, 0.33770835, 0.34885925, 0.3339907, 0.37951738, 0.3856289, 0.23542587, 0.29338527]\n",
      " s(art, A): [0.3227174, 0.46307012, 0.39832753, 0.29383156, 0.45195937, 0.3958634, 0.45844167, 0.32481048]\n",
      " s(art, B): [0.3487408, 0.4382812, 0.44741216, 0.3391197, 0.4539118, 0.44114932, 0.19920066, 0.32379282]\n",
      " s(sculpture, A): [0.28305474, 0.32096723, 0.26703003, 0.17237455, 0.296011, 0.23995407, 0.29387397, 0.22023204]\n",
      " s(sculpture, B): [0.30505702, 0.34235466, 0.27449206, 0.21565713, 0.29277056, 0.26873487, 0.14003357, 0.21944417]\n",
      " s(dance, A): [0.3385151, 0.4088972, 0.45626482, 0.32223862, 0.4388333, 0.4193886, 0.41979092, 0.29655576]\n",
      " s(dance, B): [0.39049375, 0.41798243, 0.5433954, 0.42297062, 0.5068401, 0.4810425, 0.28601176, 0.35288334]\n",
      " s(literature, A): [0.30782726, 0.3088833, 0.25215766, 0.2023573, 0.3742003, 0.31049252, 0.36860192, 0.20477583]\n",
      " s(literature, B): [0.3127419, 0.3165388, 0.26672208, 0.22269161, 0.35706323, 0.34099528, 0.18557812, 0.22722274]\n",
      " s(novel, A): [0.22838247, 0.35794804, 0.3425758, 0.28729188, 0.396298, 0.35042888, 0.41852212, 0.31034675]\n",
      " s(novel, B): [0.2620763, 0.35650462, 0.3647196, 0.37339538, 0.40635672, 0.42682838, 0.23560385, 0.37048224]\n",
      " s(symphony, A): [0.1571569, 0.231182, 0.21106398, 0.20415199, 0.26976222, 0.1973584, 0.2638953, 0.17098017]\n",
      " s(symphony, B): [0.18440843, 0.2200305, 0.20674466, 0.26823008, 0.25516805, 0.22361924, 0.08197261, 0.20012549]\n",
      " s(drama, A): [0.2714487, 0.38230908, 0.3803797, 0.3428237, 0.4087691, 0.3758858, 0.3868521, 0.3040164]\n",
      " s(drama, B): [0.30318862, 0.35407704, 0.43342805, 0.36288658, 0.45041513, 0.42340606, 0.21734904, 0.33508658]\n",
      " s(poetry, A): [0.23617893, 0.31597006, 0.3176209, 0.26819724, 0.3628617, 0.34025264, 0.386499, 0.22338217]\n",
      " s(poetry, B): [0.28218547, 0.33770835, 0.34885925, 0.3339907, 0.37951738, 0.3856289, 0.23542587, 0.29338527]\n",
      " s(art, A): [0.3227174, 0.46307012, 0.39832753, 0.29383156, 0.45195937, 0.3958634, 0.45844167, 0.32481048]\n",
      " s(art, B): [0.3487408, 0.4382812, 0.44741216, 0.3391197, 0.4539118, 0.44114932, 0.19920066, 0.32379282]\n",
      " s(sculpture, A): [0.28305474, 0.32096723, 0.26703003, 0.17237455, 0.296011, 0.23995407, 0.29387397, 0.22023204]\n",
      " s(sculpture, B): [0.30505702, 0.34235466, 0.27449206, 0.21565713, 0.29277056, 0.26873487, 0.14003357, 0.21944417]\n",
      " s(dance, A): [0.3385151, 0.4088972, 0.45626482, 0.32223862, 0.4388333, 0.4193886, 0.41979092, 0.29655576]\n",
      " s(dance, B): [0.39049375, 0.41798243, 0.5433954, 0.42297062, 0.5068401, 0.4810425, 0.28601176, 0.35288334]\n",
      " s(literature, A): [0.30782726, 0.3088833, 0.25215766, 0.2023573, 0.3742003, 0.31049252, 0.36860192, 0.20477583]\n",
      " s(literature, B): [0.3127419, 0.3165388, 0.26672208, 0.22269161, 0.35706323, 0.34099528, 0.18557812, 0.22722274]\n",
      " s(novel, A): [0.22838247, 0.35794804, 0.3425758, 0.28729188, 0.396298, 0.35042888, 0.41852212, 0.31034675]\n",
      " s(novel, B): [0.2620763, 0.35650462, 0.3647196, 0.37339538, 0.40635672, 0.42682838, 0.23560385, 0.37048224]\n",
      " s(symphony, A): [0.1571569, 0.231182, 0.21106398, 0.20415199, 0.26976222, 0.1973584, 0.2638953, 0.17098017]\n",
      " s(symphony, B): [0.18440843, 0.2200305, 0.20674466, 0.26823008, 0.25516805, 0.22361924, 0.08197261, 0.20012549]\n",
      " s(drama, A): [0.2714487, 0.38230908, 0.3803797, 0.3428237, 0.4087691, 0.3758858, 0.3868521, 0.3040164]\n",
      " s(drama, B): [0.30318862, 0.35407704, 0.43342805, 0.36288658, 0.45041513, 0.42340606, 0.21734904, 0.33508658]\n",
      " Cohen's d: 0.0, WEAT effect size: -1.36900794506073\n"
     ]
    },
    {
     "data": {
      "text/plain": [
       "-1.369008"
      ]
     },
     "execution_count": 20,
     "metadata": {},
     "output_type": "execute_result"
    }
   ],
   "source": [
    "WEAT_effect_size(EN_biased_model, EN_math, EN_arts, EN_m_terms, EN_f_terms)"
   ]
  }
 ],
 "metadata": {
  "kernelspec": {
   "display_name": "Python 3 (ipykernel)",
   "language": "python",
   "name": "python3"
  },
  "language_info": {
   "codemirror_mode": {
    "name": "ipython",
    "version": 3
   },
   "file_extension": ".py",
   "mimetype": "text/x-python",
   "name": "python",
   "nbconvert_exporter": "python",
   "pygments_lexer": "ipython3",
   "version": "3.12.3"
  }
 },
 "nbformat": 4,
 "nbformat_minor": 5
}
